{
 "cells": [
  {
   "cell_type": "code",
   "execution_count": 22,
   "id": "a4ee0fb6-3b09-4762-8152-9c9628133bf6",
   "metadata": {},
   "outputs": [],
   "source": [
    "import numpy as np\n",
    "import pandas as pd\n",
    "import matplotlib.pyplot as plt\n",
    "import seaborn as sns\n",
    "import re\n",
    "from sklearn.model_selection import train_test_split\n",
    "from sklearn.ensemble import RandomForestClassifier\n",
    "from sklearn.feature_extraction.text import CountVectorizer\n",
    "from sklearn.metrics import accuracy_score\n",
    "from sklearn.metrics import classification_report, confusion_matrix, accuracy_score\n",
    "import seaborn as sns\n",
    "import matplotlib.pyplot as plt\n",
    "from sklearn.model_selection import train_test_split\n",
    "from sklearn.svm import SVC\n"
   ]
  },
  {
   "cell_type": "markdown",
   "id": "05fa3b4f-7a46-40ac-8252-0f4f0a44bece",
   "metadata": {},
   "source": [
    "# Exploration des données"
   ]
  },
  {
   "cell_type": "code",
   "execution_count": 2,
   "id": "c97a3a9a-2dbc-40dc-9dc6-59baef4408b9",
   "metadata": {},
   "outputs": [
    {
     "name": "stdout",
     "output_type": "stream",
     "text": [
      "  firstname     male   female\n",
      "0     marie    10145  2390322\n",
      "1      jean  1869615     6476\n",
      "2    pierre  1475841     5047\n",
      "3    jeanne     1765  1097397\n",
      "4  françois  1089009     5951\n"
     ]
    }
   ],
   "source": [
    "df_freq = pd.read_csv('firstname_with_sex.csv', sep=';')\n",
    "\n",
    "print(df_freq.head())"
   ]
  },
  {
   "cell_type": "code",
   "execution_count": 3,
   "id": "1d69a1aa-56fc-464f-8117-d336f7a46e61",
   "metadata": {},
   "outputs": [
    {
     "data": {
      "text/plain": [
       "(6946, 3)"
      ]
     },
     "execution_count": 3,
     "metadata": {},
     "output_type": "execute_result"
    }
   ],
   "source": [
    "df_freq.shape"
   ]
  },
  {
   "cell_type": "code",
   "execution_count": 4,
   "id": "84250df7-b1cf-40a0-9a0d-8eb545796847",
   "metadata": {},
   "outputs": [
    {
     "name": "stdout",
     "output_type": "stream",
     "text": [
      "<class 'pandas.core.frame.DataFrame'>\n",
      "RangeIndex: 6946 entries, 0 to 6945\n",
      "Data columns (total 3 columns):\n",
      " #   Column     Non-Null Count  Dtype \n",
      "---  ------     --------------  ----- \n",
      " 0   firstname  6946 non-null   object\n",
      " 1   male       6946 non-null   int64 \n",
      " 2   female     6946 non-null   int64 \n",
      "dtypes: int64(2), object(1)\n",
      "memory usage: 162.9+ KB\n"
     ]
    }
   ],
   "source": [
    "df_freq.info()"
   ]
  },
  {
   "cell_type": "code",
   "execution_count": 5,
   "id": "3b3311b5-d3a4-4043-8af3-0f55da7391df",
   "metadata": {},
   "outputs": [
    {
     "name": "stdout",
     "output_type": "stream",
     "text": [
      "firstname    0\n",
      "male         0\n",
      "female       0\n",
      "dtype: int64\n"
     ]
    }
   ],
   "source": [
    "#Verification des valeurs manquantes\n",
    "print(df_freq.isnull().sum())"
   ]
  },
  {
   "cell_type": "code",
   "execution_count": 6,
   "id": "cdb34afd-c122-4566-9cc8-934132004ef3",
   "metadata": {},
   "outputs": [
    {
     "name": "stdout",
     "output_type": "stream",
     "text": [
      "Nombre de doublons: 0\n"
     ]
    }
   ],
   "source": [
    "duplicates = df_freq.duplicated()\n",
    "\n",
    "#nombre de doublons\n",
    "print(f'Nombre de doublons: {duplicates.sum()}')\n",
    "\n",
    "# lignes en double\n",
    "if duplicates.any():\n",
    "    print(df_freq[duplicates])"
   ]
  },
  {
   "cell_type": "code",
   "execution_count": 7,
   "id": "66046553-dc46-4911-a1c4-7d90d284ab68",
   "metadata": {},
   "outputs": [
    {
     "name": "stdout",
     "output_type": "stream",
     "text": [
      "6946\n"
     ]
    }
   ],
   "source": [
    "unique_firstnames = df_freq['firstname'].nunique()\n",
    "print(unique_firstnames)"
   ]
  },
  {
   "cell_type": "markdown",
   "id": "692378a7-3b27-4d99-b319-65aaaef3a670",
   "metadata": {},
   "source": [
    "**Ajouter les porbabilité du sexe**"
   ]
  },
  {
   "cell_type": "code",
   "execution_count": 8,
   "id": "499defe5-5d03-4876-b071-3c0758f6e9c2",
   "metadata": {},
   "outputs": [
    {
     "name": "stdout",
     "output_type": "stream",
     "text": [
      "  firstname     male   female  probability_male  probability_female proba_sexe\n",
      "0     marie    10145  2390322          0.004226            0.995774      femme\n",
      "1      jean  1869615     6476          0.996548            0.003452      homme\n",
      "2    pierre  1475841     5047          0.996592            0.003408      homme\n",
      "3    jeanne     1765  1097397          0.001606            0.998394      femme\n",
      "4  françois  1089009     5951          0.994565            0.005435      homme\n"
     ]
    }
   ],
   "source": [
    "df_freq['probability_male'] = df_freq['male'] / (df_freq['male'] + df_freq['female'])\n",
    "df_freq['probability_female'] = df_freq['female'] / (df_freq['male'] + df_freq['female'])\n",
    "\n",
    "# sexe probable ou  ambigu\n",
    "def determine_sexe(prob_male, prob_female):\n",
    "    if 0.4 <= prob_male <= 0.6:\n",
    "        return 'ambigu'\n",
    "    elif prob_male > 0.6: \n",
    "        return 'homme'\n",
    "    else: \n",
    "        return 'femme'\n",
    "\n",
    "\n",
    "df_freq['proba_sexe'] = df_freq.apply(lambda row: determine_sexe(row['probability_male'], row['probability_female']), axis=1)\n",
    "\n",
    "\n",
    "print(df_freq.head())"
   ]
  },
  {
   "cell_type": "code",
   "execution_count": 9,
   "id": "8c820bc1-e6a6-4442-b428-de167b353cfd",
   "metadata": {},
   "outputs": [
    {
     "name": "stdout",
     "output_type": "stream",
     "text": [
      "     firstname  male  female  probability_male  probability_female proba_sexe\n",
      "486    bénigne  1340    1107          0.547609            0.452391     ambigu\n",
      "754   archange   481     462          0.510074            0.489926     ambigu\n",
      "855    benigne   414     329          0.557201            0.442799     ambigu\n",
      "1010   maxence   215     280          0.434343            0.565657     ambigu\n",
      "1129   michele   167     208          0.445333            0.554667     ambigu\n",
      "...        ...   ...     ...               ...                 ...        ...\n",
      "6700   félicié     4       6          0.400000            0.600000     ambigu\n",
      "6783   juvence     6       4          0.600000            0.400000     ambigu\n",
      "6795   léopole     6       4          0.600000            0.400000     ambigu\n",
      "6837  mirtille     5       5          0.500000            0.500000     ambigu\n",
      "6907    sevère     6       4          0.600000            0.400000     ambigu\n",
      "\n",
      "[88 rows x 6 columns]\n"
     ]
    }
   ],
   "source": [
    "# Filtrer pour les prénoms ambigus\n",
    "show_ambigus = df_freq[df_freq['proba_sexe'] == 'ambigu']\n",
    "\n",
    "print(show_ambigus)"
   ]
  },
  {
   "cell_type": "markdown",
   "id": "4ebbdc25-31ce-45ff-9a5d-2f640290d4f7",
   "metadata": {},
   "source": [
    "#### ** phase exploratoire **"
   ]
  },
  {
   "cell_type": "code",
   "execution_count": 10,
   "id": "ca58cc15-48e7-4a51-a868-6d3c44f48783",
   "metadata": {},
   "outputs": [
    {
     "name": "stdout",
     "output_type": "stream",
     "text": [
      "               male        female  probability_male  probability_female\n",
      "count  6.946000e+03  6.946000e+03       6946.000000         6946.000000\n",
      "mean   2.084710e+03  1.795356e+03          0.489026            0.510974\n",
      "std    3.725168e+04  3.738858e+04          0.477295            0.477295\n",
      "min    0.000000e+00  0.000000e+00          0.000000            0.000000\n",
      "25%    0.000000e+00  0.000000e+00          0.000000            0.000000\n",
      "50%    1.100000e+01  1.200000e+01          0.368421            0.631579\n",
      "75%    4.000000e+01  4.300000e+01          1.000000            1.000000\n",
      "max    1.869615e+06  2.390322e+06          1.000000            1.000000\n",
      "       firstname proba_sexe\n",
      "count       6946       6946\n",
      "unique      6946          3\n",
      "top        zimle      femme\n",
      "freq           1       3480\n",
      "proba_sexe\n",
      "femme     3480\n",
      "homme     3378\n",
      "ambigu      88\n",
      "Name: count, dtype: int64\n",
      "count    6946.000000\n",
      "mean        7.039591\n",
      "std         1.757842\n",
      "min         1.000000\n",
      "25%         6.000000\n",
      "50%         7.000000\n",
      "75%         8.000000\n",
      "max        14.000000\n",
      "Name: name_length, dtype: float64\n"
     ]
    }
   ],
   "source": [
    "print(df_freq.describe())\n",
    "\n",
    "# données non numériques\n",
    "print(df_freq.describe(include=[object]))\n",
    "\n",
    "# Fréquence des différentes catégories pour la colonne 'proba_sexe'\n",
    "print(df_freq['proba_sexe'].value_counts())\n",
    "\n",
    "#longueurs des prénoms\n",
    "df_freq['name_length'] = df_freq['firstname'].apply(len)\n",
    "print(df_freq['name_length'].describe())\n"
   ]
  },
  {
   "cell_type": "code",
   "execution_count": 11,
   "id": "70d07a5e-b0f4-457b-a474-cb4cb992c800",
   "metadata": {},
   "outputs": [
    {
     "name": "stdout",
     "output_type": "stream",
     "text": [
      "proba_sexe\n",
      "femme     3480\n",
      "homme     3378\n",
      "ambigu      88\n",
      "Name: count, dtype: int64\n",
      "proba_sexe\n",
      "femme     50.100777\n",
      "homme     48.632306\n",
      "ambigu     1.266916\n",
      "Name: proportion, dtype: float64\n"
     ]
    },
    {
     "data": {
      "image/png": "[encoded data removed]",
      "text/plain": [
       "<Figure size 1000x500 with 1 Axes>"
      ]
     },
     "metadata": {},
     "output_type": "display_data"
    }
   ],
   "source": [
    "# Nombre de prénoms par sexe\n",
    "print(df_freq['proba_sexe'].value_counts())\n",
    "\n",
    "# Pourcentage de prénoms par sexe\n",
    "print(df_freq['proba_sexe'].value_counts(normalize=True) * 100)\n",
    "\n",
    "\n",
    "import matplotlib.pyplot as plt\n",
    "\n",
    "plt.figure(figsize=(10, 5))\n",
    "df_freq['proba_sexe'].value_counts().plot(kind='bar')\n",
    "plt.title('Distribution des prénoms par sexe')\n",
    "plt.xlabel('Sexe')\n",
    "plt.ylabel('Nombre de prénoms')\n",
    "plt.xticks(rotation=0)\n",
    "plt.show()\n"
   ]
  },
  {
   "cell_type": "code",
   "execution_count": 12,
   "id": "35859fe9-0b89-4b4a-9ac5-efb8d3ed7bb7",
   "metadata": {},
   "outputs": [
    {
     "data": {
      "image/png": "[encoded data removed]",
      "text/plain": [
       "<Figure size 1200x600 with 1 Axes>"
      ]
     },
     "metadata": {},
     "output_type": "display_data"
    },
    {
     "data": {
      "image/png": "[encoded data removed]",
      "text/plain": [
       "<Figure size 1200x600 with 1 Axes>"
      ]
     },
     "metadata": {},
     "output_type": "display_data"
    },
    {
     "data": {
      "image/png": "[encoded data removed]",
      "text/plain": [
       "<Figure size 1200x600 with 1 Axes>"
      ]
     },
     "metadata": {},
     "output_type": "display_data"
    },
    {
     "data": {
      "image/png": "[encoded data removed]",
      "text/plain": [
       "<Figure size 1200x600 with 1 Axes>"
      ]
     },
     "metadata": {},
     "output_type": "display_data"
    }
   ],
   "source": [
    "#  10 prénoms féminins les plus fréquents\n",
    "top_female_names = df_freq[df_freq['proba_sexe'] == 'femme'].nlargest(10, 'female')\n",
    "\n",
    "plt.figure(figsize=(12, 6))\n",
    "top_female_names.set_index('firstname')['female'].plot(kind='barh')\n",
    "plt.title('Top 10 des prénoms féminins les plus fréquents')\n",
    "plt.xlabel('Fréquence')\n",
    "plt.ylabel('Prénoms')\n",
    "plt.gca().invert_yaxis()\n",
    "plt.show()\n",
    "\n",
    "#  10 prénoms masculins les plus fréquents\n",
    "top_male_names = df_freq[df_freq['proba_sexe'] == 'homme'].nlargest(10, 'male')\n",
    "\n",
    "plt.figure(figsize=(12, 6))\n",
    "top_male_names.set_index('firstname')['male'].plot(kind='barh')\n",
    "plt.title('Top 10 des prénoms masculins les plus fréquents')\n",
    "plt.xlabel('Fréquence')\n",
    "plt.ylabel('Prénoms')\n",
    "plt.gca().invert_yaxis()\n",
    "plt.show()\n",
    "\n",
    "# 10 prénoms féminins les moins fréquents\n",
    "bottom_female_names = df_freq[(df_freq['proba_sexe'] == 'femme') & (df_freq['female'] > 0)].nsmallest(10, 'female')\n",
    "\n",
    "plt.figure(figsize=(12, 6))\n",
    "bottom_female_names.set_index('firstname')['female'].plot(kind='barh')\n",
    "plt.title('Top 10 des prénoms féminins les moins fréquents')\n",
    "plt.xlabel('Fréquence')\n",
    "plt.ylabel('Prénoms')\n",
    "plt.gca().invert_yaxis()\n",
    "plt.show()\n",
    "\n",
    "#10 prénoms masculins les moins fréquents\n",
    "bottom_male_names = df_freq[(df_freq['proba_sexe'] == 'homme') & (df_freq['male'] > 0)].nsmallest(10, 'male')\n",
    "\n",
    "plt.figure(figsize=(12, 6))\n",
    "bottom_male_names.set_index('firstname')['male'].plot(kind='barh')\n",
    "plt.title('Top 10 des prénoms masculins les moins fréquents')\n",
    "plt.xlabel('Fréquence')\n",
    "plt.ylabel('Prénoms')\n",
    "plt.gca().invert_yaxis()\n",
    "plt.show()\n"
   ]
  },
  {
   "cell_type": "markdown",
   "id": "f82bdd82-b8df-4bbf-b70a-d30868eb5693",
   "metadata": {},
   "source": [
    "**Dataset transcription, Test set**"
   ]
  },
  {
   "cell_type": "code",
   "execution_count": 13,
   "id": "d5c8ef21-4092-4c83-8a66-8ef071080522",
   "metadata": {},
   "outputs": [
    {
     "data": {
      "text/html": [
       "<div>\n",
       "<style scoped>\n",
       "    .dataframe tbody tr th:only-of-type {\n",
       "        vertical-align: middle;\n",
       "    }\n",
       "\n",
       "    .dataframe tbody tr th {\n",
       "        vertical-align: top;\n",
       "    }\n",
       "\n",
       "    .dataframe thead th {\n",
       "        text-align: right;\n",
       "    }\n",
       "</style>\n",
       "<table border=\"1\" class=\"dataframe\">\n",
       "  <thead>\n",
       "    <tr style=\"text-align: right;\">\n",
       "      <th></th>\n",
       "      <th>subject_line</th>\n",
       "      <th>groundtruth</th>\n",
       "      <th>prediction</th>\n",
       "      <th>sex</th>\n",
       "    </tr>\n",
       "  </thead>\n",
       "  <tbody>\n",
       "    <tr>\n",
       "      <th>0</th>\n",
       "      <td>ebb26ada-044c-4c62-9dbc-a9c8d505d31c</td>\n",
       "      <td>surname: Chardon firstname: Marie occupation: ...</td>\n",
       "      <td>nom: Chardon prénom: Marie date_naissance: 30 ...</td>\n",
       "      <td>femme</td>\n",
       "    </tr>\n",
       "    <tr>\n",
       "      <th>1</th>\n",
       "      <td>338496f5-e4ca-43ac-aa5c-429cb3f6ac00</td>\n",
       "      <td>surname: Lhopital firstname: Louis-Jean occupa...</td>\n",
       "      <td>nom: Lhopital prénom: Louis Jean date_naissanc...</td>\n",
       "      <td>homme</td>\n",
       "    </tr>\n",
       "    <tr>\n",
       "      <th>2</th>\n",
       "      <td>e6a279da-9b6f-4f49-b498-64857bc50d1e</td>\n",
       "      <td>surname: Papin firstname: Marie occupation: id...</td>\n",
       "      <td>nom: Pyrin prénom: Marie date_naissance: 55 re...</td>\n",
       "      <td>femme</td>\n",
       "    </tr>\n",
       "    <tr>\n",
       "      <th>3</th>\n",
       "      <td>7534deca-39e8-4f00-be17-c12460015de1</td>\n",
       "      <td>surname: Lavocat firstname: Marie link: femme ...</td>\n",
       "      <td>nom: Lavocat prénom: Marie date_naissance: 187...</td>\n",
       "      <td>femme</td>\n",
       "    </tr>\n",
       "    <tr>\n",
       "      <th>4</th>\n",
       "      <td>ef334a66-a504-418a-9872-e7c9db923488</td>\n",
       "      <td>surname: Benne firstname: Marguerite age: 78</td>\n",
       "      <td>nom: Benne prénom: Marguerite date_naissance: ...</td>\n",
       "      <td>femme</td>\n",
       "    </tr>\n",
       "  </tbody>\n",
       "</table>\n",
       "</div>"
      ],
      "text/plain": [
       "                           subject_line  \\\n",
       "0  ebb26ada-044c-4c62-9dbc-a9c8d505d31c   \n",
       "1  338496f5-e4ca-43ac-aa5c-429cb3f6ac00   \n",
       "2  e6a279da-9b6f-4f49-b498-64857bc50d1e   \n",
       "3  7534deca-39e8-4f00-be17-c12460015de1   \n",
       "4  ef334a66-a504-418a-9872-e7c9db923488   \n",
       "\n",
       "                                         groundtruth  \\\n",
       "0  surname: Chardon firstname: Marie occupation: ...   \n",
       "1  surname: Lhopital firstname: Louis-Jean occupa...   \n",
       "2  surname: Papin firstname: Marie occupation: id...   \n",
       "3  surname: Lavocat firstname: Marie link: femme ...   \n",
       "4      surname: Benne firstname: Marguerite age: 78    \n",
       "\n",
       "                                          prediction    sex  \n",
       "0  nom: Chardon prénom: Marie date_naissance: 30 ...  femme  \n",
       "1  nom: Lhopital prénom: Louis Jean date_naissanc...  homme  \n",
       "2  nom: Pyrin prénom: Marie date_naissance: 55 re...  femme  \n",
       "3  nom: Lavocat prénom: Marie date_naissance: 187...  femme  \n",
       "4  nom: Benne prénom: Marguerite date_naissance: ...  femme  "
      ]
     },
     "execution_count": 13,
     "metadata": {},
     "output_type": "execute_result"
    }
   ],
   "source": [
    "df_transcription = pd.read_csv('transcriptions_with_sex.csv')\n",
    "df_transcription.head()"
   ]
  },
  {
   "cell_type": "code",
   "execution_count": 14,
   "id": "6f91b65d-ba0f-4d30-b341-d60271a5d333",
   "metadata": {},
   "outputs": [
    {
     "name": "stdout",
     "output_type": "stream",
     "text": [
      "<class 'pandas.core.frame.DataFrame'>\n",
      "RangeIndex: 241 entries, 0 to 240\n",
      "Data columns (total 4 columns):\n",
      " #   Column        Non-Null Count  Dtype \n",
      "---  ------        --------------  ----- \n",
      " 0   subject_line  241 non-null    object\n",
      " 1   groundtruth   241 non-null    object\n",
      " 2   prediction    241 non-null    object\n",
      " 3   sex           241 non-null    object\n",
      "dtypes: object(4)\n",
      "memory usage: 7.7+ KB\n"
     ]
    }
   ],
   "source": [
    "df_transcription.info()"
   ]
  },
  {
   "cell_type": "code",
   "execution_count": 15,
   "id": "39617603-630c-4ff8-861c-1b0f92c9267c",
   "metadata": {},
   "outputs": [],
   "source": [
    "# prénoms de groundtruth et prediction\n",
    "def extract_groundtruth_firstname(text):\n",
    "    match = re.search(r\"firstname:\\s*([^\\s]+)\", text)\n",
    "    return match.group(1) if match else None\n",
    "\n",
    "def extract_prediction_firstname(text):\n",
    "    match = re.search(r\"prénom:\\s*([^\\s]+)\", text)\n",
    "    return match.group(1) if match else None\n",
    "\n",
    "\n",
    "df_transcription['groundtruth_firstname'] = df_transcription['groundtruth'].apply(extract_groundtruth_firstname)\n",
    "df_transcription['prediction_firstname'] = df_transcription['prediction'].apply(extract_prediction_firstname)\n",
    "\n",
    "\n",
    "df_transcription = df_transcription[['groundtruth_firstname', 'prediction_firstname', 'sex']]\n",
    "\n"
   ]
  },
  {
   "cell_type": "code",
   "execution_count": 16,
   "id": "8548eddf-7900-46be-adee-fbba398b8944",
   "metadata": {},
   "outputs": [
    {
     "name": "stdout",
     "output_type": "stream",
     "text": [
      "    groundtruth_firstname prediction_firstname    sex\n",
      "0                   Marie                Marie  femme\n",
      "1              Louis-Jean                Louis  homme\n",
      "2                   Marie                Marie  femme\n",
      "3                   Marie                Marie  femme\n",
      "4              Marguerite           Marguerite  femme\n",
      "..                    ...                  ...    ...\n",
      "236            Pétronille           Gihromille  femme\n",
      "237             Alexandre            Alexandre  homme\n",
      "238            Marguerite           Marguerite  femme\n",
      "239               Etienne              Etienne  homme\n",
      "240            Antoinette           Antoinette  femme\n",
      "\n",
      "[241 rows x 3 columns]\n"
     ]
    }
   ],
   "source": [
    "print(df_transcription)"
   ]
  },
  {
   "cell_type": "code",
   "execution_count": 17,
   "id": "7cd35e6a-901e-438a-b891-59fa855dac93",
   "metadata": {},
   "outputs": [
    {
     "name": "stdout",
     "output_type": "stream",
     "text": [
      "['femme' 'homme' 'ambigu']\n"
     ]
    }
   ],
   "source": [
    "# valeurs uniques de la colonne 'sex'\n",
    "unique_sex_values = df_transcription['sex'].unique()\n",
    "print(unique_sex_values)"
   ]
  },
  {
   "cell_type": "code",
   "execution_count": 18,
   "id": "a4fba35b-fc9d-4ce4-95ad-30bee1d88c6d",
   "metadata": {},
   "outputs": [
    {
     "name": "stdout",
     "output_type": "stream",
     "text": [
      "    groundtruth_firstname prediction_firstname\n",
      "17                 Claude               Claude\n",
      "59                 Jeanne               Jeanne\n",
      "94                 Claude                Vaude\n",
      "123                 Marie                Marie\n",
      "124                 Emile                Emile\n",
      "130                 Marie                Marie\n",
      "196                Claude               Claude\n",
      "204               Antonie              Entonie\n",
      "230                Claude               Claude\n"
     ]
    }
   ],
   "source": [
    "#  prénoms 'ambigu'\n",
    "ambiguous_names = df_transcription[df_transcription['sex'] == 'ambigu']\n",
    "\n",
    "print(ambiguous_names[['groundtruth_firstname', 'prediction_firstname']])\n"
   ]
  },
  {
   "cell_type": "markdown",
   "id": "c8de7180-5acb-44cc-b44c-f2a024774296",
   "metadata": {},
   "source": [
    "# Prediction"
   ]
  },
  {
   "cell_type": "code",
   "execution_count": 43,
   "id": "c82ee713-2d37-4a99-9352-c87a925e2c47",
   "metadata": {},
   "outputs": [],
   "source": [
    "#cible en mappant le sexe aux valeurs numériques\n",
    "df_freq['target'] = df_freq['proba_sexe'].map({'femme': 0, 'homme': 1, 'ambigu': 2})\n",
    "\n",
    "#caractéristiques des prénoms\n",
    "vectorizer = CountVectorizer(analyzer='char', ngram_range=(2, 3))\n",
    "X = vectorizer.fit_transform(df_freq['firstname'])\n",
    "y = df_freq['target']"
   ]
  },
  {
   "cell_type": "code",
   "execution_count": 44,
   "id": "e8fc18b1-e28b-48a7-b353-4d3819b150b1",
   "metadata": {},
   "outputs": [
    {
     "name": "stdout",
     "output_type": "stream",
     "text": [
      "0       0\n",
      "1       1\n",
      "2       1\n",
      "3       0\n",
      "4       1\n",
      "       ..\n",
      "6941    1\n",
      "6942    1\n",
      "6943    0\n",
      "6944    1\n",
      "6945    0\n",
      "Name: target, Length: 6946, dtype: int64\n"
     ]
    }
   ],
   "source": [
    "print(y)"
   ]
  },
  {
   "cell_type": "markdown",
   "id": "2c62a89c-eee3-4fa1-970e-d373630fdef6",
   "metadata": {},
   "source": [
    "**SVM**"
   ]
  },
  {
   "cell_type": "markdown",
   "id": "7f1aec21-da32-4746-9762-8d90f3b35091",
   "metadata": {},
   "source": [
    "**Entrainement train set**"
   ]
  },
  {
   "cell_type": "code",
   "execution_count": 45,
   "id": "c927a577-cfaa-49a1-8df7-550d3ca3e2f1",
   "metadata": {},
   "outputs": [
    {
     "name": "stdout",
     "output_type": "stream",
     "text": [
      "Training set accuracy: 94.20%\n",
      "Classification report on training set:\n",
      "              precision    recall  f1-score   support\n",
      "\n",
      "           0       0.96      0.94      0.95      3480\n",
      "           1       0.93      0.97      0.95      3378\n",
      "           2       1.00      0.03      0.07        88\n",
      "\n",
      "    accuracy                           0.94      6946\n",
      "   macro avg       0.96      0.65      0.65      6946\n",
      "weighted avg       0.94      0.94      0.94      6946\n",
      "\n"
     ]
    }
   ],
   "source": [
    "model_svm = SVC(kernel='rbf')\n",
    "model_svm.fit(X, y)\n",
    "\n",
    "# Prédiction sur le train set pour évaluer comment le modèle a appris\n",
    "train_predictions = model_svm.predict(X)\n",
    "\n",
    "# Évaluation \n",
    "train_accuracy = accuracy_score(y, train_predictions)\n",
    "print(f\"Training set accuracy: {train_accuracy * 100:.2f}%\")\n",
    "print(\"Classification report on training set:\")\n",
    "print(classification_report(y, train_predictions))"
   ]
  },
  {
   "cell_type": "markdown",
   "id": "2f81faf1-fb0f-4c72-a305-b6855fd664c4",
   "metadata": {},
   "source": [
    "**entrainement test set**"
   ]
  },
  {
   "cell_type": "code",
   "execution_count": 46,
   "id": "1780cc16-3d5d-4b80-aa72-01f3e67ed4c5",
   "metadata": {},
   "outputs": [
    {
     "name": "stdout",
     "output_type": "stream",
     "text": [
      "    prediction_firstname predicted_sexe\n",
      "0                  Marie          femme\n",
      "1                  Louis          homme\n",
      "2                  Marie          femme\n",
      "3                  Marie          femme\n",
      "4             Marguerite          femme\n",
      "..                   ...            ...\n",
      "236           Gihromille          homme\n",
      "237            Alexandre          homme\n",
      "238           Marguerite          femme\n",
      "239              Etienne          femme\n",
      "240           Antoinette          femme\n",
      "\n",
      "[241 rows x 2 columns]\n",
      "Test set accuracy: 87.14%\n"
     ]
    }
   ],
   "source": [
    "#jeu de test\n",
    "X_transcription = vectorizer.transform(df_transcription['prediction_firstname'])\n",
    "\n",
    "# Prédiction du sexe sur les prénoms de transcription\n",
    "df_transcription['predicted_sexe'] = model_svm.predict(X_transcription)\n",
    "df_transcription['predicted_sexe'] = df_transcription['predicted_sexe'].map({0: 'femme', 1: 'homme', 2: 'ambigu'})\n",
    "\n",
    "# Mappage des étiquettes réelles \n",
    "df_transcription['sex_encoded'] = df_transcription['sex'].map({'femme': 0, 'homme': 1, 'ambigu': 2}) #la colonne sex sont les etiquettes reelles on les encode ici\n",
    "df_transcription['predicted_sexe_encoded'] = df_transcription['predicted_sexe'].map({'femme': 0, 'homme': 1, 'ambigu': 2})\n",
    "\n",
    "\n",
    "# accuracy sur le test set\n",
    "test_accuracysvc = accuracy_score(df_transcription['sex_encoded'], df_transcription['predicted_sexe_encoded'])\n",
    "\n",
    "\n",
    "print(df_transcription[['prediction_firstname', 'predicted_sexe']])\n",
    "print(f\"Test set accuracy: {test_accuracysvc * 100:.2f}%\")\n"
   ]
  },
  {
   "cell_type": "code",
   "execution_count": 47,
   "id": "736e4288-3b63-4bb1-b672-8a331d398f2f",
   "metadata": {},
   "outputs": [
    {
     "name": "stdout",
     "output_type": "stream",
     "text": [
      "    prediction_firstname predicted_sexe\n",
      "0                  Marie          femme\n",
      "1                  Louis          homme\n",
      "2                  Marie          femme\n",
      "3                  Marie          femme\n",
      "4             Marguerite          femme\n",
      "..                   ...            ...\n",
      "236           Gihromille          homme\n",
      "237            Alexandre          homme\n",
      "238           Marguerite          femme\n",
      "239              Etienne          femme\n",
      "240           Antoinette          femme\n",
      "\n",
      "[241 rows x 2 columns]\n",
      "Test set accuracy: 87.14%\n",
      "Classification report on test set:\n",
      "              precision    recall  f1-score   support\n",
      "\n",
      "       femme       0.80      0.96      0.88       107\n",
      "       homme       0.95      0.86      0.90       125\n",
      "      ambigu       0.00      0.00      0.00         9\n",
      "\n",
      "    accuracy                           0.87       241\n",
      "   macro avg       0.58      0.61      0.59       241\n",
      "weighted avg       0.85      0.87      0.86       241\n",
      "\n"
     ]
    },
    {
     "name": "stderr",
     "output_type": "stream",
     "text": [
      "/opt/mamba/lib/python3.11/site-packages/sklearn/metrics/_classification.py:1509: UndefinedMetricWarning: Precision is ill-defined and being set to 0.0 in labels with no predicted samples. Use `zero_division` parameter to control this behavior.\n",
      "  _warn_prf(average, modifier, f\"{metric.capitalize()} is\", len(result))\n",
      "/opt/mamba/lib/python3.11/site-packages/sklearn/metrics/_classification.py:1509: UndefinedMetricWarning: Precision is ill-defined and being set to 0.0 in labels with no predicted samples. Use `zero_division` parameter to control this behavior.\n",
      "  _warn_prf(average, modifier, f\"{metric.capitalize()} is\", len(result))\n",
      "/opt/mamba/lib/python3.11/site-packages/sklearn/metrics/_classification.py:1509: UndefinedMetricWarning: Precision is ill-defined and being set to 0.0 in labels with no predicted samples. Use `zero_division` parameter to control this behavior.\n",
      "  _warn_prf(average, modifier, f\"{metric.capitalize()} is\", len(result))\n"
     ]
    }
   ],
   "source": [
    "test_accuracysvc = accuracy_score(df_transcription['sex_encoded'], df_transcription['predicted_sexe_encoded'])\n",
    "\n",
    "print(df_transcription[['prediction_firstname', 'predicted_sexe']])\n",
    "print(f\"Test set accuracy: {test_accuracysvc * 100:.2f}%\")\n",
    "print(\"Classification report on test set:\")\n",
    "print(classification_report(df_transcription['sex_encoded'], df_transcription['predicted_sexe_encoded'], target_names=['femme', 'homme', 'ambigu']))"
   ]
  },
  {
   "cell_type": "markdown",
   "id": "c058802e-4dd5-4f77-bc57-d6f8e5c219b7",
   "metadata": {},
   "source": [
    "Les warnings « Precision is ill-defined and being set to 0.0 in labels with no predicted samples » signifient que le modèle n'a pas prédit certaines classes du tout, ce qui entraîne une division par zéro lors du calcul de la précision pour ces classes. C'est notamment le cas pour la classe ambigu qui est très peu représentée et difficile à prédire."
   ]
  },
  {
   "cell_type": "code",
   "execution_count": 48,
   "id": "9a03ce39-b081-4193-8f7c-2eb39acb5695",
   "metadata": {},
   "outputs": [
    {
     "data": {
      "text/plain": [
       "prediction_firstname    31\n",
       "sex                     31\n",
       "predicted_sexe          31\n",
       "dtype: int64"
      ]
     },
     "execution_count": 48,
     "metadata": {},
     "output_type": "execute_result"
    }
   ],
   "source": [
    "# Trouver les prénoms mal prédits\n",
    "incorrect_predictions = df_transcription[df_transcription['sex_encoded'] != df_transcription['predicted_sexe_encoded']]\n",
    "\n",
    "# Afficher les prénoms mal prédits avec leur sexe réel et le sexe prédit\n",
    "incorrect_predictions[['prediction_firstname', 'sex', 'predicted_sexe']].count()"
   ]
  },
  {
   "cell_type": "markdown",
   "id": "6fda167e-e5aa-40aa-9471-fa2daf66b4bd",
   "metadata": {},
   "source": [
    "### **XGBoost**"
   ]
  },
  {
   "cell_type": "markdown",
   "id": "566b22a4-629f-4855-9c71-f2464b787068",
   "metadata": {},
   "source": [
    "**Entrainement sur le train set**"
   ]
  },
  {
   "cell_type": "code",
   "execution_count": 49,
   "id": "cdb6b983-09dc-4a84-8a01-526f3cc715b5",
   "metadata": {},
   "outputs": [
    {
     "name": "stdout",
     "output_type": "stream",
     "text": [
      "Fitting 3 folds for each of 27 candidates, totalling 81 fits\n",
      "Best parameters found: {'learning_rate': 0.1, 'max_depth': 7, 'n_estimators': 300}\n",
      "Training set accuracy: 92.74%\n",
      "Classification report on training set:\n",
      "              precision    recall  f1-score   support\n",
      "\n",
      "           0       0.95      0.91      0.93      3480\n",
      "           1       0.91      0.96      0.93      3378\n",
      "           2       1.00      0.26      0.41        88\n",
      "\n",
      "    accuracy                           0.93      6946\n",
      "   macro avg       0.95      0.71      0.76      6946\n",
      "weighted avg       0.93      0.93      0.93      6946\n",
      "\n",
      "[CV] END ..learning_rate=0.01, max_depth=7, n_estimators=100; total time=   6.2s\n",
      "[CV] END ...learning_rate=0.1, max_depth=3, n_estimators=300; total time=   2.7s\n",
      "[CV] END ..learning_rate=0.01, max_depth=5, n_estimators=200; total time=   5.3s\n",
      "[CV] END ...learning_rate=0.1, max_depth=3, n_estimators=100; total time=   1.1s\n",
      "[CV] END ...learning_rate=0.1, max_depth=5, n_estimators=100; total time=   2.6s\n",
      "[CV] END ..learning_rate=0.01, max_depth=5, n_estimators=100; total time=   2.4s\n",
      "[CV] END ..learning_rate=0.05, max_depth=5, n_estimators=200; total time=   3.8s\n",
      "[CV] END ...learning_rate=0.1, max_depth=3, n_estimators=300; total time=   3.1s\n",
      "[CV] END ..learning_rate=0.01, max_depth=3, n_estimators=300; total time=   2.9s\n",
      "[CV] END ..learning_rate=0.05, max_depth=5, n_estimators=300; total time=   6.6s\n",
      "[CV] END ..learning_rate=0.01, max_depth=7, n_estimators=200; total time=  10.2s\n",
      "[CV] END ..learning_rate=0.01, max_depth=3, n_estimators=200; total time=   1.6s\n",
      "[CV] END ..learning_rate=0.05, max_depth=3, n_estimators=300; total time=   2.2s\n",
      "[CV] END ..learning_rate=0.05, max_depth=7, n_estimators=200; total time=   6.9s\n",
      "[CV] END ..learning_rate=0.05, max_depth=3, n_estimators=100; total time=   0.8s\n",
      "[CV] END ..learning_rate=0.05, max_depth=3, n_estimators=200; total time=   1.9s\n",
      "[CV] END ..learning_rate=0.05, max_depth=5, n_estimators=300; total time=   5.0s\n",
      "[CV] END ...learning_rate=0.1, max_depth=7, n_estimators=100; total time=   3.0s\n",
      "[CV] END ..learning_rate=0.01, max_depth=5, n_estimators=100; total time=   2.3s\n",
      "[CV] END ..learning_rate=0.05, max_depth=5, n_estimators=200; total time=   4.8s\n",
      "[CV] END ...learning_rate=0.1, max_depth=5, n_estimators=200; total time=   4.2s\n",
      "[CV] END ..learning_rate=0.01, max_depth=5, n_estimators=200; total time=   4.8s\n",
      "[CV] END ...learning_rate=0.1, max_depth=3, n_estimators=100; total time=   0.7s\n",
      "[CV] END ...learning_rate=0.1, max_depth=3, n_estimators=200; total time=   1.7s\n",
      "[CV] END ...learning_rate=0.1, max_depth=5, n_estimators=200; total time=   4.2s\n",
      "[CV] END ..learning_rate=0.01, max_depth=3, n_estimators=300; total time=   3.3s\n",
      "[CV] END ..learning_rate=0.05, max_depth=7, n_estimators=100; total time=   3.5s\n",
      "[CV] END ...learning_rate=0.1, max_depth=5, n_estimators=200; total time=   4.3s\n",
      "[CV] END ..learning_rate=0.01, max_depth=5, n_estimators=300; total time=   5.9s\n",
      "[CV] END ...learning_rate=0.1, max_depth=3, n_estimators=200; total time=   1.4s\n",
      "[CV] END ...learning_rate=0.1, max_depth=5, n_estimators=300; total time=   4.1s\n",
      "[CV] END ..learning_rate=0.01, max_depth=7, n_estimators=200; total time=  11.3s\n",
      "[CV] END ..learning_rate=0.01, max_depth=7, n_estimators=100; total time=   5.5s\n",
      "[CV] END ...learning_rate=0.1, max_depth=3, n_estimators=200; total time=   1.9s\n",
      "[CV] END ...learning_rate=0.1, max_depth=7, n_estimators=100; total time=   3.9s\n",
      "[CV] END ..learning_rate=0.01, max_depth=3, n_estimators=200; total time=   1.7s\n",
      "[CV] END ..learning_rate=0.05, max_depth=5, n_estimators=100; total time=   2.2s\n",
      "[CV] END ..learning_rate=0.05, max_depth=7, n_estimators=200; total time=   7.5s\n",
      "[CV] END ..learning_rate=0.01, max_depth=3, n_estimators=100; total time=   0.8s\n",
      "[CV] END ..learning_rate=0.05, max_depth=3, n_estimators=200; total time=   2.3s\n",
      "[CV] END ..learning_rate=0.05, max_depth=7, n_estimators=100; total time=   4.8s\n",
      "[CV] END ...learning_rate=0.1, max_depth=7, n_estimators=100; total time=   3.9s\n",
      "[CV] END ..learning_rate=0.01, max_depth=3, n_estimators=100; total time=   0.8s\n",
      "[CV] END ..learning_rate=0.05, max_depth=3, n_estimators=200; total time=   1.9s\n",
      "[CV] END ..learning_rate=0.05, max_depth=5, n_estimators=300; total time=   4.7s\n",
      "[CV] END ...learning_rate=0.1, max_depth=5, n_estimators=300; total time=   4.4s\n",
      "[CV] END ..learning_rate=0.01, max_depth=7, n_estimators=300; total time=  12.2s\n",
      "[CV] END ..learning_rate=0.05, max_depth=3, n_estimators=100; total time=   1.0s\n",
      "[CV] END ..learning_rate=0.05, max_depth=3, n_estimators=300; total time=   2.7s\n",
      "[CV] END ..learning_rate=0.05, max_depth=7, n_estimators=200; total time=   8.6s\n",
      "[CV] END ..learning_rate=0.01, max_depth=5, n_estimators=300; total time=   7.5s\n",
      "[CV] END ...learning_rate=0.1, max_depth=5, n_estimators=300; total time=   5.5s\n",
      "[CV] END ..learning_rate=0.01, max_depth=7, n_estimators=200; total time=   8.5s\n",
      "[CV] END ...learning_rate=0.1, max_depth=7, n_estimators=200; total time=   5.3s\n",
      "[CV] END ..learning_rate=0.01, max_depth=3, n_estimators=100; total time=   1.0s\n",
      "[CV] END ..learning_rate=0.05, max_depth=3, n_estimators=300; total time=   3.2s\n",
      "[CV] END ..learning_rate=0.05, max_depth=7, n_estimators=300; total time=  10.2s\n",
      "[CV] END ..learning_rate=0.01, max_depth=3, n_estimators=300; total time=   2.9s\n",
      "[CV] END ..learning_rate=0.05, max_depth=7, n_estimators=100; total time=   5.0s\n",
      "[CV] END ...learning_rate=0.1, max_depth=7, n_estimators=200; total time=   7.2s\n",
      "[CV] END ..learning_rate=0.01, max_depth=7, n_estimators=300; total time=  15.0s\n",
      "[CV] END ..learning_rate=0.01, max_depth=5, n_estimators=300; total time=   8.1s\n",
      "[CV] END ...learning_rate=0.1, max_depth=7, n_estimators=200; total time=   7.3s\n",
      "[CV] END ..learning_rate=0.01, max_depth=3, n_estimators=200; total time=   1.7s\n",
      "[CV] END ..learning_rate=0.05, max_depth=5, n_estimators=100; total time=   2.2s\n",
      "[CV] END ..learning_rate=0.05, max_depth=7, n_estimators=300; total time=  11.3s\n",
      "[CV] END ..learning_rate=0.05, max_depth=3, n_estimators=100; total time=   1.2s\n",
      "[CV] END ..learning_rate=0.05, max_depth=5, n_estimators=100; total time=   2.5s\n",
      "[CV] END ..learning_rate=0.05, max_depth=7, n_estimators=300; total time=  11.6s\n",
      "[CV] END ..learning_rate=0.01, max_depth=7, n_estimators=300; total time=  16.3s\n",
      "[CV] END ..learning_rate=0.01, max_depth=7, n_estimators=100; total time=   5.2s\n",
      "[CV] END ...learning_rate=0.1, max_depth=3, n_estimators=100; total time=   1.1s\n",
      "[CV] END ...learning_rate=0.1, max_depth=5, n_estimators=100; total time=   2.5s\n",
      "[CV] END ...learning_rate=0.1, max_depth=7, n_estimators=300; total time=   9.3s\n",
      "[CV] END ..learning_rate=0.01, max_depth=5, n_estimators=200; total time=   5.8s\n",
      "[CV] END ...learning_rate=0.1, max_depth=3, n_estimators=300; total time=   2.6s\n",
      "[CV] END ...learning_rate=0.1, max_depth=7, n_estimators=300; total time=   9.9s\n",
      "[CV] END ..learning_rate=0.01, max_depth=5, n_estimators=100; total time=   2.3s\n",
      "[CV] END ..learning_rate=0.05, max_depth=5, n_estimators=200; total time=   4.2s\n",
      "[CV] END ...learning_rate=0.1, max_depth=5, n_estimators=100; total time=   2.1s\n",
      "[CV] END ...learning_rate=0.1, max_depth=7, n_estimators=300; total time=  10.0s\n"
     ]
    }
   ],
   "source": [
    "from sklearn.feature_extraction.text import CountVectorizer\n",
    "from xgboost import XGBClassifier\n",
    "from sklearn.model_selection import GridSearchCV\n",
    "from sklearn.metrics import accuracy_score, classification_report\n",
    "\n",
    "\n",
    "df_freq['target'] = df_freq['proba_sexe'].map({'femme': 0, 'homme': 1, 'ambigu': 2})\n",
    "\n",
    "vectorizer = CountVectorizer(analyzer='char', ngram_range=(2, 3))\n",
    "X = vectorizer.fit_transform(df_freq['firstname'])\n",
    "y = df_freq['target']\n",
    "\n",
    "\n",
    "param_grid = {\n",
    "    'max_depth': [3, 5, 7],\n",
    "    'n_estimators': [100, 200, 300],\n",
    "    'learning_rate': [0.01, 0.05, 0.1]\n",
    "}\n",
    "\n",
    "xgb_model = XGBClassifier(use_label_encoder=False, eval_metric='logloss')\n",
    "grid_search = GridSearchCV(estimator=xgb_model, param_grid=param_grid, cv=3, n_jobs=-1, verbose=2)\n",
    "grid_search.fit(X, y)\n",
    "\n",
    "print(f\"Best parameters found: {grid_search.best_params_}\")\n",
    "\n",
    "# Entraînement \n",
    "optimized_xgb_model = XGBClassifier(\n",
    "    n_estimators=grid_search.best_params_['n_estimators'],\n",
    "    max_depth=grid_search.best_params_['max_depth'],\n",
    "    learning_rate=grid_search.best_params_['learning_rate'],\n",
    "    use_label_encoder=False,\n",
    "    eval_metric='logloss'\n",
    ")\n",
    "optimized_xgb_model.fit(X, y)\n",
    "\n",
    "# Évaluation sur le train set\n",
    "train_predictions_xgb = optimized_xgb_model.predict(X)\n",
    "train_accuracy_xgb = accuracy_score(y, train_predictions_xgb)\n",
    "print(f\"Training set accuracy: {train_accuracy_xgb * 100:.2f}%\")\n",
    "print(\"Classification report on training set:\")\n",
    "print(classification_report(y, train_predictions_xgb))\n"
   ]
  },
  {
   "cell_type": "markdown",
   "id": "78444859-2b98-4852-a251-dd307a8e8e4d",
   "metadata": {},
   "source": [
    "**Entrainement sur le test set**"
   ]
  },
  {
   "cell_type": "code",
   "execution_count": 50,
   "id": "bfff4a1b-c81d-4973-8789-e5c21d39013c",
   "metadata": {},
   "outputs": [
    {
     "name": "stdout",
     "output_type": "stream",
     "text": [
      "Test set accuracy: 90.04%\n"
     ]
    }
   ],
   "source": [
    "# Transformation des prénoms \n",
    "X_transcription = vectorizer.transform(df_transcription['prediction_firstname'])\n",
    "\n",
    "# Prédiction du sexe sur les prénoms de transcription\n",
    "df_transcription['predicted_sexe'] = optimized_xgb_model.predict(X_transcription)\n",
    "df_transcription['predicted_sexe'] = df_transcription['predicted_sexe'].map({0: 'femme', 1: 'homme', 2: 'ambigu'})\n",
    "\n",
    "df_transcription['sex_encoded'] = df_transcription['sex'].map({'femme': 0, 'homme': 1, 'ambigu': 2})\n",
    "df_transcription['predicted_sexe_encoded'] = df_transcription['predicted_sexe'].map({'femme': 0, 'homme': 1, 'ambigu': 2})\n",
    "\n",
    "\n",
    "test_accuracy = accuracy_score(df_transcription['sex_encoded'], df_transcription['predicted_sexe_encoded'])\n",
    "print(f\"Test set accuracy: {test_accuracy * 100:.2f}%\")\n"
   ]
  },
  {
   "cell_type": "code",
   "execution_count": 51,
   "id": "ec2bf70f-b942-4785-ba61-fcc1d173b560",
   "metadata": {},
   "outputs": [
    {
     "name": "stdout",
     "output_type": "stream",
     "text": [
      "Classification Report for Test Set:\n",
      "              precision    recall  f1-score   support\n",
      "\n",
      "       femme       0.85      0.97      0.90       107\n",
      "       homme       0.96      0.90      0.93       125\n",
      "      ambigu       0.00      0.00      0.00         9\n",
      "\n",
      "    accuracy                           0.90       241\n",
      "   macro avg       0.60      0.63      0.61       241\n",
      "weighted avg       0.87      0.90      0.88       241\n",
      "\n"
     ]
    },
    {
     "name": "stderr",
     "output_type": "stream",
     "text": [
      "/opt/mamba/lib/python3.11/site-packages/sklearn/metrics/_classification.py:1509: UndefinedMetricWarning: Precision is ill-defined and being set to 0.0 in labels with no predicted samples. Use `zero_division` parameter to control this behavior.\n",
      "  _warn_prf(average, modifier, f\"{metric.capitalize()} is\", len(result))\n",
      "/opt/mamba/lib/python3.11/site-packages/sklearn/metrics/_classification.py:1509: UndefinedMetricWarning: Precision is ill-defined and being set to 0.0 in labels with no predicted samples. Use `zero_division` parameter to control this behavior.\n",
      "  _warn_prf(average, modifier, f\"{metric.capitalize()} is\", len(result))\n",
      "/opt/mamba/lib/python3.11/site-packages/sklearn/metrics/_classification.py:1509: UndefinedMetricWarning: Precision is ill-defined and being set to 0.0 in labels with no predicted samples. Use `zero_division` parameter to control this behavior.\n",
      "  _warn_prf(average, modifier, f\"{metric.capitalize()} is\", len(result))\n"
     ]
    }
   ],
   "source": [
    "# Affichage du rapport de classification\n",
    "print(\"Classification Report for Test Set:\")\n",
    "print(classification_report(df_transcription['sex_encoded'], df_transcription['predicted_sexe_encoded'], target_names=['femme', 'homme', 'ambigu']))"
   ]
  },
  {
   "cell_type": "markdown",
   "id": "35b9ca0a-5f6c-4aa4-8863-37a01b5630eb",
   "metadata": {},
   "source": [
    "Les warnings « Precision is ill-defined and being set to 0.0 in labels with no predicted samples » signifient que le modèle n'a pas prédit certaines classes du tout, ce qui entraîne une division par zéro lors du calcul de la précision pour ces classes. C'est notamment le cas pour la classe ambigu qui est très peu représentée et difficile à prédire.\n",
    "\n",
    "Le score est tout de même meilleur qu'avec SVM"
   ]
  },
  {
   "cell_type": "code",
   "execution_count": 64,
   "id": "25d7521a-c012-4462-b928-bce9707c794d",
   "metadata": {},
   "outputs": [
    {
     "name": "stdout",
     "output_type": "stream",
     "text": [
      "prediction_firstname    19\n",
      "sex                     19\n",
      "predicted_sexe          19\n",
      "dtype: int64\n",
      "    prediction_firstname     sex predicted_sexe\n",
      "17                Claude  ambigu          homme\n",
      "59                Jeanne  ambigu          femme\n",
      "62            Jean-Marie   homme          femme\n",
      "65              Angloise   homme          femme\n",
      "94                 Vaude  ambigu          femme\n",
      "123                Marie  ambigu          femme\n",
      "124                Emile  ambigu          homme\n",
      "130                Marie  ambigu          femme\n",
      "142               Aupène   homme          femme\n",
      "146                Marie   homme          femme\n",
      "188                 Anne   homme          femme\n",
      "193               Marthy   femme          homme\n",
      "196               Claude  ambigu          homme\n",
      "197                 Faul   femme          homme\n",
      "204              Entonie  ambigu          femme\n",
      "219               Franco   femme          homme\n",
      "228               Simone   homme          femme\n",
      "230               Claude  ambigu          homme\n",
      "236           Gihromille   femme          homme\n"
     ]
    }
   ],
   "source": [
    "# Trouver les prénoms mal prédits\n",
    "incorrect_predictions_xgb = df_transcription[df_transcription['sex_encoded'] != df_transcription['predicted_sexe_encoded']]\n",
    "\n",
    "# Afficher les prénoms mal prédits avec leur sexe réel et le sexe prédit\n",
    "print(incorrect_predictions_xgb[['prediction_firstname', 'sex', 'predicted_sexe']].count())\n",
    "print(incorrect_predictions_xgb[['prediction_firstname', 'sex', 'predicted_sexe']])"
   ]
  },
  {
   "cell_type": "markdown",
   "id": "3eb733e0-bba2-4657-b514-7bb167cc90c2",
   "metadata": {},
   "source": [
    "on a effectivement moins d'erreurs"
   ]
  },
  {
   "cell_type": "markdown",
   "id": "a7f41f19-984f-4081-b2a2-4756f34c0521",
   "metadata": {},
   "source": [
    "### **Random Forest**"
   ]
  },
  {
   "cell_type": "code",
   "execution_count": 54,
   "id": "62bab90a-8bfe-40f5-9aec-b85b72771844",
   "metadata": {},
   "outputs": [
    {
     "name": "stdout",
     "output_type": "stream",
     "text": [
      "Training set accuracy: 99.93%\n",
      "Classification report on training set:\n",
      "              precision    recall  f1-score   support\n",
      "\n",
      "       femme       1.00      1.00      1.00      3480\n",
      "       homme       1.00      1.00      1.00      3378\n",
      "      ambigu       1.00      0.95      0.98        88\n",
      "\n",
      "    accuracy                           1.00      6946\n",
      "   macro avg       1.00      0.98      0.99      6946\n",
      "weighted avg       1.00      1.00      1.00      6946\n",
      "\n"
     ]
    }
   ],
   "source": [
    "model_rf = RandomForestClassifier(n_estimators=100, random_state=42)\n",
    "model_rf.fit(X, y)\n",
    "\n",
    "train_predictions = model_rf.predict(X)\n",
    "train_accuracy = accuracy_score(y, train_predictions)\n",
    "print(f\"Training set accuracy: {train_accuracy * 100:.2f}%\")\n",
    "print(\"Classification report on training set:\")\n",
    "print(classification_report(y, train_predictions, target_names=['femme', 'homme', 'ambigu']))"
   ]
  },
  {
   "cell_type": "code",
   "execution_count": 58,
   "id": "ef86a621-c7a6-4c25-8b0b-e6ec0e553e26",
   "metadata": {},
   "outputs": [
    {
     "name": "stdout",
     "output_type": "stream",
     "text": [
      "Accuracy of the model: 92.12%\n"
     ]
    }
   ],
   "source": [
    "df_transcription['sex_encoded'] = df_transcription['sex'].map({'femme': 0, 'homme': 1, 'ambigu': -1})\n",
    "df_transcription['predicted_sexe_encoded'] = df_transcription['predicted_sexe'].map({'femme': 0, 'homme': 1, 'ambigu': -1})\n",
    "\n",
    "accuracyrf = accuracy_score(df_transcription['sex_encoded'], df_transcription['predicted_sexe_encoded'])\n",
    "\n",
    "print(f\"Accuracy of the model: {accuracyrf * 100:.2f}%\")"
   ]
  },
  {
   "cell_type": "code",
   "execution_count": 61,
   "id": "ad4590af-c108-4e27-83db-8ca7eccb95ac",
   "metadata": {},
   "outputs": [
    {
     "name": "stdout",
     "output_type": "stream",
     "text": [
      "    groundtruth_firstname prediction_firstname     sex predicted_sexe\n",
      "17                 Claude               Claude  ambigu          homme\n",
      "59                 Jeanne               Jeanne  ambigu          femme\n",
      "62             Jean-Marie           Jean-Marie   homme          femme\n",
      "65                Antoine             Angloise   homme          femme\n",
      "94                 Claude                Vaude  ambigu          femme\n",
      "123                 Marie                Marie  ambigu          femme\n",
      "124                 Emile                Emile  ambigu          homme\n",
      "130                 Marie                Marie  ambigu          femme\n",
      "142               Antoine               Aupène   homme          femme\n",
      "146                 Marie                Marie   homme          femme\n",
      "188                Pierre                 Anne   homme          femme\n",
      "193                Marthe               Marthy   femme          homme\n",
      "196                Claude               Claude  ambigu          homme\n",
      "197             Françoise                 Faul   femme          homme\n",
      "204               Antonie              Entonie  ambigu          femme\n",
      "219                France               Franco   femme          homme\n",
      "228                 Simon               Simone   homme          femme\n",
      "230                Claude               Claude  ambigu          homme\n",
      "236            Pétronille           Gihromille   femme          homme\n"
     ]
    },
    {
     "data": {
      "text/plain": [
       "groundtruth_firstname    19\n",
       "prediction_firstname     19\n",
       "sex                      19\n",
       "predicted_sexe           19\n",
       "dtype: int64"
      ]
     },
     "execution_count": 61,
     "metadata": {},
     "output_type": "execute_result"
    }
   ],
   "source": [
    "#mauvaises prédictions\n",
    "incorrect_predictions_with_groundtruth = df_transcription[\n",
    "    (df_transcription['sex_encoded'] != df_transcription['predicted_sexe_encoded'])\n",
    "][['groundtruth_firstname', 'prediction_firstname', 'sex', 'predicted_sexe']]\n",
    "\n",
    "print(incorrect_predictions_with_groundtruth)\n",
    "incorrect_predictions_with_groundtruth.count()\n"
   ]
  },
  {
   "cell_type": "markdown",
   "id": "a7e38dd5-010e-43f7-962c-4eddf7968416",
   "metadata": {},
   "source": [
    "Ce modèle est beaucoup plus performant que le précédent (on retrouve moins d'erreurs)"
   ]
  },
  {
   "cell_type": "code",
   "execution_count": 65,
   "id": "8748adcb-7105-471d-8089-2ff9be843792",
   "metadata": {},
   "outputs": [
    {
     "name": "stdout",
     "output_type": "stream",
     "text": [
      "Collecting thefuzz\n",
      "  Downloading thefuzz-0.22.1-py3-none-any.whl.metadata (3.9 kB)\n",
      "Collecting rapidfuzz<4.0.0,>=3.0.0 (from thefuzz)\n",
      "  Downloading rapidfuzz-3.8.1-cp311-cp311-manylinux_2_17_x86_64.manylinux2014_x86_64.whl.metadata (11 kB)\n",
      "Downloading thefuzz-0.22.1-py3-none-any.whl (8.2 kB)\n",
      "Downloading rapidfuzz-3.8.1-cp311-cp311-manylinux_2_17_x86_64.manylinux2014_x86_64.whl (3.4 MB)\n",
      "\u001b[2K   \u001b[90m━━━━━━━━━━━━━━━━━━━━━━━━━━━━━━━━━━━━━━━━\u001b[0m \u001b[32m3.4/3.4 MB\u001b[0m \u001b[31m29.7 MB/s\u001b[0m eta \u001b[36m0:00:00\u001b[0m00:01\u001b[0m00:01\u001b[0m\n",
      "\u001b[?25hInstalling collected packages: rapidfuzz, thefuzz\n",
      "Successfully installed rapidfuzz-3.8.1 thefuzz-0.22.1\n"
     ]
    }
   ],
   "source": [
    "!pip install thefuzz\n"
   ]
  },
  {
   "cell_type": "code",
   "execution_count": 66,
   "id": "fd0ebbef-fbf0-437f-a730-4c06f1a287a3",
   "metadata": {},
   "outputs": [],
   "source": [
    "from thefuzz import process\n",
    "\n",
    "#prénoms connus à partir des données de groundtruth\n",
    "known_firstnames = df_transcription['groundtruth_firstname'].unique()\n",
    "\n",
    "#corriger les prénoms en utilisant la correspondance la plus proche\n",
    "def correct_firstname(name, known_names):\n",
    "   \n",
    "    corrected_name, score = process.extractOne(name, known_names)\n",
    "  \n",
    "    threshold = 70  \n",
    "    return corrected_name if score >= threshold else name\n",
    "\n",
    "\n",
    "df_transcription['corrected_prediction_firstname'] = df_transcription['prediction_firstname'].apply(\n",
    "    lambda x: correct_firstname(x, known_firstnames)\n",
    ")\n",
    "\n"
   ]
  },
  {
   "cell_type": "code",
   "execution_count": 67,
   "id": "c5ac6039-6b67-4d53-95c4-529a94f39530",
   "metadata": {},
   "outputs": [],
   "source": [
    "df_freq['target'] = df_freq['proba_sexe'].map({'femme': 0, 'homme': 1, 'ambigu': 2})\n",
    "\n",
    "vectorizer = CountVectorizer(analyzer='char', ngram_range=(2, 3))\n",
    "X = vectorizer.fit_transform(df_freq['firstname'])\n",
    "y = df_freq['target']"
   ]
  },
  {
   "cell_type": "code",
   "execution_count": 68,
   "id": "6b9c7415-ba67-40a9-aa8c-0b72861e0a2b",
   "metadata": {},
   "outputs": [
    {
     "name": "stdout",
     "output_type": "stream",
     "text": [
      "    corrected_prediction_firstname predicted_sexe\n",
      "0                            Marie          femme\n",
      "1                            Louis          homme\n",
      "2                            Marie          femme\n",
      "3                            Marie          femme\n",
      "4                       Marguerite          femme\n",
      "..                             ...            ...\n",
      "236                          Emile          homme\n",
      "237                      Alexandre          homme\n",
      "238                     Marguerite          femme\n",
      "239                        Etienne          homme\n",
      "240                     Antoinette          femme\n",
      "\n",
      "[241 rows x 2 columns]\n",
      "Accuracy of the corrected model: 92.53%\n"
     ]
    }
   ],
   "source": [
    "model = RandomForestClassifier(n_estimators=100, random_state=42)\n",
    "model.fit(X, y)\n",
    "\n",
    "# vectorizer ajusté \n",
    "X_transcription_corrected = vectorizer.transform(df_transcription['corrected_prediction_firstname'])\n",
    "\n",
    "\n",
    "df_transcription['predicted_sexe'] = model.predict(X_transcription_corrected)\n",
    "\n",
    "\n",
    "df_transcription['predicted_sexe'] = df_transcription['predicted_sexe'].map({0: 'femme', 1: 'homme', 2: 'ambigu'})\n",
    "\n",
    "\n",
    "print(df_transcription[['corrected_prediction_firstname', 'predicted_sexe']])\n",
    "\n",
    "#accuracy \n",
    "df_transcription['sex_encoded'] = df_transcription['sex'].map({'femme': 0, 'homme': 1, 'ambigu': 2})\n",
    "df_transcription['predicted_sexe_encoded'] = df_transcription['predicted_sexe'].map({'femme': 0, 'homme': 1, 'ambigu': 2})\n",
    "accuracy_rf_corrected = accuracy_score(df_transcription['sex_encoded'], df_transcription['predicted_sexe_encoded'])\n",
    "\n",
    "print(f\"Accuracy of the corrected model: {accuracy_rf_corrected * 100:.2f}%\")\n"
   ]
  },
  {
   "cell_type": "code",
   "execution_count": 69,
   "id": "4f47c14d-4646-4788-a7cc-064f76149b28",
   "metadata": {},
   "outputs": [
    {
     "data": {
      "text/html": [
       "<div>\n",
       "<style scoped>\n",
       "    .dataframe tbody tr th:only-of-type {\n",
       "        vertical-align: middle;\n",
       "    }\n",
       "\n",
       "    .dataframe tbody tr th {\n",
       "        vertical-align: top;\n",
       "    }\n",
       "\n",
       "    .dataframe thead th {\n",
       "        text-align: right;\n",
       "    }\n",
       "</style>\n",
       "<table border=\"1\" class=\"dataframe\">\n",
       "  <thead>\n",
       "    <tr style=\"text-align: right;\">\n",
       "      <th></th>\n",
       "      <th>groundtruth_firstname</th>\n",
       "      <th>prediction_firstname</th>\n",
       "      <th>sex</th>\n",
       "      <th>predicted_sexe</th>\n",
       "    </tr>\n",
       "  </thead>\n",
       "  <tbody>\n",
       "    <tr>\n",
       "      <th>17</th>\n",
       "      <td>Claude</td>\n",
       "      <td>Claude</td>\n",
       "      <td>ambigu</td>\n",
       "      <td>homme</td>\n",
       "    </tr>\n",
       "    <tr>\n",
       "      <th>18</th>\n",
       "      <td>Antoine</td>\n",
       "      <td>Angène</td>\n",
       "      <td>homme</td>\n",
       "      <td>femme</td>\n",
       "    </tr>\n",
       "    <tr>\n",
       "      <th>59</th>\n",
       "      <td>Jeanne</td>\n",
       "      <td>Jeanne</td>\n",
       "      <td>ambigu</td>\n",
       "      <td>femme</td>\n",
       "    </tr>\n",
       "    <tr>\n",
       "      <th>62</th>\n",
       "      <td>Jean-Marie</td>\n",
       "      <td>Jean-Marie</td>\n",
       "      <td>homme</td>\n",
       "      <td>femme</td>\n",
       "    </tr>\n",
       "    <tr>\n",
       "      <th>65</th>\n",
       "      <td>Antoine</td>\n",
       "      <td>Angloise</td>\n",
       "      <td>homme</td>\n",
       "      <td>femme</td>\n",
       "    </tr>\n",
       "    <tr>\n",
       "      <th>94</th>\n",
       "      <td>Claude</td>\n",
       "      <td>Vaude</td>\n",
       "      <td>ambigu</td>\n",
       "      <td>homme</td>\n",
       "    </tr>\n",
       "    <tr>\n",
       "      <th>123</th>\n",
       "      <td>Marie</td>\n",
       "      <td>Marie</td>\n",
       "      <td>ambigu</td>\n",
       "      <td>femme</td>\n",
       "    </tr>\n",
       "    <tr>\n",
       "      <th>124</th>\n",
       "      <td>Emile</td>\n",
       "      <td>Emile</td>\n",
       "      <td>ambigu</td>\n",
       "      <td>homme</td>\n",
       "    </tr>\n",
       "    <tr>\n",
       "      <th>130</th>\n",
       "      <td>Marie</td>\n",
       "      <td>Marie</td>\n",
       "      <td>ambigu</td>\n",
       "      <td>femme</td>\n",
       "    </tr>\n",
       "    <tr>\n",
       "      <th>142</th>\n",
       "      <td>Antoine</td>\n",
       "      <td>Aupène</td>\n",
       "      <td>homme</td>\n",
       "      <td>femme</td>\n",
       "    </tr>\n",
       "    <tr>\n",
       "      <th>146</th>\n",
       "      <td>Marie</td>\n",
       "      <td>Marie</td>\n",
       "      <td>homme</td>\n",
       "      <td>femme</td>\n",
       "    </tr>\n",
       "    <tr>\n",
       "      <th>188</th>\n",
       "      <td>Pierre</td>\n",
       "      <td>Anne</td>\n",
       "      <td>homme</td>\n",
       "      <td>femme</td>\n",
       "    </tr>\n",
       "    <tr>\n",
       "      <th>196</th>\n",
       "      <td>Claude</td>\n",
       "      <td>Claude</td>\n",
       "      <td>ambigu</td>\n",
       "      <td>homme</td>\n",
       "    </tr>\n",
       "    <tr>\n",
       "      <th>197</th>\n",
       "      <td>Françoise</td>\n",
       "      <td>Faul</td>\n",
       "      <td>femme</td>\n",
       "      <td>homme</td>\n",
       "    </tr>\n",
       "    <tr>\n",
       "      <th>204</th>\n",
       "      <td>Antonie</td>\n",
       "      <td>Entonie</td>\n",
       "      <td>ambigu</td>\n",
       "      <td>femme</td>\n",
       "    </tr>\n",
       "    <tr>\n",
       "      <th>230</th>\n",
       "      <td>Claude</td>\n",
       "      <td>Claude</td>\n",
       "      <td>ambigu</td>\n",
       "      <td>homme</td>\n",
       "    </tr>\n",
       "    <tr>\n",
       "      <th>233</th>\n",
       "      <td>Barthélémy</td>\n",
       "      <td>Barthe</td>\n",
       "      <td>homme</td>\n",
       "      <td>femme</td>\n",
       "    </tr>\n",
       "    <tr>\n",
       "      <th>236</th>\n",
       "      <td>Pétronille</td>\n",
       "      <td>Gihromille</td>\n",
       "      <td>femme</td>\n",
       "      <td>homme</td>\n",
       "    </tr>\n",
       "  </tbody>\n",
       "</table>\n",
       "</div>"
      ],
      "text/plain": [
       "    groundtruth_firstname prediction_firstname     sex predicted_sexe\n",
       "17                 Claude               Claude  ambigu          homme\n",
       "18                Antoine               Angène   homme          femme\n",
       "59                 Jeanne               Jeanne  ambigu          femme\n",
       "62             Jean-Marie           Jean-Marie   homme          femme\n",
       "65                Antoine             Angloise   homme          femme\n",
       "94                 Claude                Vaude  ambigu          homme\n",
       "123                 Marie                Marie  ambigu          femme\n",
       "124                 Emile                Emile  ambigu          homme\n",
       "130                 Marie                Marie  ambigu          femme\n",
       "142               Antoine               Aupène   homme          femme\n",
       "146                 Marie                Marie   homme          femme\n",
       "188                Pierre                 Anne   homme          femme\n",
       "196                Claude               Claude  ambigu          homme\n",
       "197             Françoise                 Faul   femme          homme\n",
       "204               Antonie              Entonie  ambigu          femme\n",
       "230                Claude               Claude  ambigu          homme\n",
       "233            Barthélémy               Barthe   homme          femme\n",
       "236            Pétronille           Gihromille   femme          homme"
      ]
     },
     "execution_count": 69,
     "metadata": {},
     "output_type": "execute_result"
    }
   ],
   "source": [
    "# prénoms mal prédits\n",
    "incorrect_predictions = df_transcription[df_transcription['sex_encoded'] != df_transcription['predicted_sexe_encoded']]\n",
    "\n",
    "# Afficher les prénoms mal prédits avec leur sexe réel et le sexe prédit\n",
    "incorrect_predictions[['groundtruth_firstname', 'prediction_firstname', 'sex', 'predicted_sexe']]"
   ]
  },
  {
   "cell_type": "markdown",
   "id": "5f7f5a20-aa47-468a-be88-721e13764b47",
   "metadata": {},
   "source": [
    "#### Test avec word embedding"
   ]
  },
  {
   "cell_type": "markdown",
   "id": "d7d1352a-fa00-4a33-ad2c-578fb41450c3",
   "metadata": {},
   "source": [
    "Bien que nous ayions eu de bons résultats avec random forest, on peut essyaer une technique de word embedding pour capturer les nuances linguistiques et culturelles des prénoms"
   ]
  },
  {
   "cell_type": "code",
   "execution_count": 76,
   "id": "59738685-646c-4050-a007-3c9d1c606e7f",
   "metadata": {},
   "outputs": [
    {
     "name": "stdout",
     "output_type": "stream",
     "text": [
      "Collecting spacy\n",
      "  Downloading spacy-3.7.4-cp311-cp311-manylinux_2_17_x86_64.manylinux2014_x86_64.whl.metadata (27 kB)\n",
      "Collecting spacy-legacy<3.1.0,>=3.0.11 (from spacy)\n",
      "  Downloading spacy_legacy-3.0.12-py2.py3-none-any.whl.metadata (2.8 kB)\n",
      "Collecting spacy-loggers<2.0.0,>=1.0.0 (from spacy)\n",
      "  Downloading spacy_loggers-1.0.5-py3-none-any.whl.metadata (23 kB)\n",
      "Collecting murmurhash<1.1.0,>=0.28.0 (from spacy)\n",
      "  Downloading murmurhash-1.0.10-cp311-cp311-manylinux_2_5_x86_64.manylinux1_x86_64.manylinux_2_17_x86_64.manylinux2014_x86_64.whl.metadata (2.0 kB)\n",
      "Collecting cymem<2.1.0,>=2.0.2 (from spacy)\n",
      "  Downloading cymem-2.0.8-cp311-cp311-manylinux_2_17_x86_64.manylinux2014_x86_64.whl.metadata (8.4 kB)\n",
      "Collecting preshed<3.1.0,>=3.0.2 (from spacy)\n",
      "  Downloading preshed-3.0.9-cp311-cp311-manylinux_2_5_x86_64.manylinux1_x86_64.manylinux_2_17_x86_64.manylinux2014_x86_64.whl.metadata (2.2 kB)\n",
      "Collecting thinc<8.3.0,>=8.2.2 (from spacy)\n",
      "  Downloading thinc-8.2.3-cp311-cp311-manylinux_2_17_x86_64.manylinux2014_x86_64.whl.metadata (15 kB)\n",
      "Collecting wasabi<1.2.0,>=0.9.1 (from spacy)\n",
      "  Downloading wasabi-1.1.2-py3-none-any.whl.metadata (28 kB)\n",
      "Collecting srsly<3.0.0,>=2.4.3 (from spacy)\n",
      "  Downloading srsly-2.4.8-cp311-cp311-manylinux_2_17_x86_64.manylinux2014_x86_64.whl.metadata (20 kB)\n",
      "Collecting catalogue<2.1.0,>=2.0.6 (from spacy)\n",
      "  Downloading catalogue-2.0.10-py3-none-any.whl.metadata (14 kB)\n",
      "Collecting weasel<0.4.0,>=0.1.0 (from spacy)\n",
      "  Downloading weasel-0.3.4-py3-none-any.whl.metadata (4.7 kB)\n",
      "Collecting typer<0.10.0,>=0.3.0 (from spacy)\n",
      "  Downloading typer-0.9.4-py3-none-any.whl.metadata (14 kB)\n",
      "Collecting smart-open<7.0.0,>=5.2.1 (from spacy)\n",
      "  Downloading smart_open-6.4.0-py3-none-any.whl.metadata (21 kB)\n",
      "Requirement already satisfied: tqdm<5.0.0,>=4.38.0 in /opt/mamba/lib/python3.11/site-packages (from spacy) (4.66.2)\n",
      "Requirement already satisfied: requests<3.0.0,>=2.13.0 in /opt/mamba/lib/python3.11/site-packages (from spacy) (2.31.0)\n",
      "Collecting pydantic!=1.8,!=1.8.1,<3.0.0,>=1.7.4 (from spacy)\n",
      "  Downloading pydantic-2.7.1-py3-none-any.whl.metadata (107 kB)\n",
      "\u001b[2K     \u001b[90m━━━━━━━━━━━━━━━━━━━━━━━━━━━━━━━━━━━━━━\u001b[0m \u001b[32m107.3/107.3 kB\u001b[0m \u001b[31m28.7 MB/s\u001b[0m eta \u001b[36m0:00:00\u001b[0m\n",
      "\u001b[?25hRequirement already satisfied: jinja2 in /opt/mamba/lib/python3.11/site-packages (from spacy) (3.1.3)\n",
      "Requirement already satisfied: setuptools in /opt/mamba/lib/python3.11/site-packages (from spacy) (69.2.0)\n",
      "Requirement already satisfied: packaging>=20.0 in /opt/mamba/lib/python3.11/site-packages (from spacy) (23.2)\n",
      "Collecting langcodes<4.0.0,>=3.2.0 (from spacy)\n",
      "  Downloading langcodes-3.4.0-py3-none-any.whl.metadata (29 kB)\n",
      "Requirement already satisfied: numpy>=1.19.0 in /opt/mamba/lib/python3.11/site-packages (from spacy) (1.26.4)\n",
      "Collecting language-data>=1.2 (from langcodes<4.0.0,>=3.2.0->spacy)\n",
      "  Downloading language_data-1.2.0-py3-none-any.whl.metadata (4.3 kB)\n",
      "Collecting annotated-types>=0.4.0 (from pydantic!=1.8,!=1.8.1,<3.0.0,>=1.7.4->spacy)\n",
      "  Downloading annotated_types-0.6.0-py3-none-any.whl.metadata (12 kB)\n",
      "Collecting pydantic-core==2.18.2 (from pydantic!=1.8,!=1.8.1,<3.0.0,>=1.7.4->spacy)\n",
      "  Downloading pydantic_core-2.18.2-cp311-cp311-manylinux_2_17_x86_64.manylinux2014_x86_64.whl.metadata (6.5 kB)\n",
      "Requirement already satisfied: typing-extensions>=4.6.1 in /opt/mamba/lib/python3.11/site-packages (from pydantic!=1.8,!=1.8.1,<3.0.0,>=1.7.4->spacy) (4.11.0)\n",
      "Requirement already satisfied: charset-normalizer<4,>=2 in /opt/mamba/lib/python3.11/site-packages (from requests<3.0.0,>=2.13.0->spacy) (3.3.2)\n",
      "Requirement already satisfied: idna<4,>=2.5 in /opt/mamba/lib/python3.11/site-packages (from requests<3.0.0,>=2.13.0->spacy) (3.6)\n",
      "Requirement already satisfied: urllib3<3,>=1.21.1 in /opt/mamba/lib/python3.11/site-packages (from requests<3.0.0,>=2.13.0->spacy) (1.26.18)\n",
      "Requirement already satisfied: certifi>=2017.4.17 in /opt/mamba/lib/python3.11/site-packages (from requests<3.0.0,>=2.13.0->spacy) (2024.2.2)\n",
      "Collecting blis<0.8.0,>=0.7.8 (from thinc<8.3.0,>=8.2.2->spacy)\n",
      "  Downloading blis-0.7.11-cp311-cp311-manylinux_2_17_x86_64.manylinux2014_x86_64.whl.metadata (7.4 kB)\n",
      "Collecting confection<1.0.0,>=0.0.1 (from thinc<8.3.0,>=8.2.2->spacy)\n",
      "  Downloading confection-0.1.4-py3-none-any.whl.metadata (19 kB)\n",
      "Requirement already satisfied: click<9.0.0,>=7.1.1 in /opt/mamba/lib/python3.11/site-packages (from typer<0.10.0,>=0.3.0->spacy) (8.1.7)\n",
      "Collecting cloudpathlib<0.17.0,>=0.7.0 (from weasel<0.4.0,>=0.1.0->spacy)\n",
      "  Downloading cloudpathlib-0.16.0-py3-none-any.whl.metadata (14 kB)\n",
      "Requirement already satisfied: MarkupSafe>=2.0 in /opt/mamba/lib/python3.11/site-packages (from jinja2->spacy) (2.1.5)\n",
      "Collecting marisa-trie>=0.7.7 (from language-data>=1.2->langcodes<4.0.0,>=3.2.0->spacy)\n",
      "  Downloading marisa_trie-1.1.0-cp311-cp311-manylinux_2_17_x86_64.manylinux2014_x86_64.whl.metadata (8.5 kB)\n",
      "Downloading spacy-3.7.4-cp311-cp311-manylinux_2_17_x86_64.manylinux2014_x86_64.whl (6.6 MB)\n",
      "\u001b[2K   \u001b[90m━━━━━━━━━━━━━━━━━━━━━━━━━━━━━━━━━━━━━━━━\u001b[0m \u001b[32m6.6/6.6 MB\u001b[0m \u001b[31m23.9 MB/s\u001b[0m eta \u001b[36m0:00:00\u001b[0m00:01\u001b[0m00:01\u001b[0m\n",
      "\u001b[?25hDownloading catalogue-2.0.10-py3-none-any.whl (17 kB)\n",
      "Downloading cymem-2.0.8-cp311-cp311-manylinux_2_17_x86_64.manylinux2014_x86_64.whl (46 kB)\n",
      "\u001b[2K   \u001b[90m━━━━━━━━━━━━━━━━━━━━━━━━━━━━━━━━━━━━━━━━\u001b[0m \u001b[32m46.3/46.3 kB\u001b[0m \u001b[31m8.4 MB/s\u001b[0m eta \u001b[36m0:00:00\u001b[0m\n",
      "\u001b[?25hDownloading langcodes-3.4.0-py3-none-any.whl (182 kB)\n",
      "\u001b[2K   \u001b[90m━━━━━━━━━━━━━━━━━━━━━━━━━━━━━━━━━━━━━━━━\u001b[0m \u001b[32m182.0/182.0 kB\u001b[0m \u001b[31m9.4 MB/s\u001b[0m eta \u001b[36m0:00:00\u001b[0m\n",
      "\u001b[?25hDownloading murmurhash-1.0.10-cp311-cp311-manylinux_2_5_x86_64.manylinux1_x86_64.manylinux_2_17_x86_64.manylinux2014_x86_64.whl (29 kB)\n",
      "Downloading preshed-3.0.9-cp311-cp311-manylinux_2_5_x86_64.manylinux1_x86_64.manylinux_2_17_x86_64.manylinux2014_x86_64.whl (157 kB)\n",
      "\u001b[2K   \u001b[90m━━━━━━━━━━━━━━━━━━━━━━━━━━━━━━━━━━━━━━━━\u001b[0m \u001b[32m157.2/157.2 kB\u001b[0m \u001b[31m8.5 MB/s\u001b[0m eta \u001b[36m0:00:00\u001b[0m\n",
      "\u001b[?25hDownloading pydantic-2.7.1-py3-none-any.whl (409 kB)\n",
      "\u001b[2K   \u001b[90m━━━━━━━━━━━━━━━━━━━━━━━━━━━━━━━━━━━━━━━━\u001b[0m \u001b[32m409.3/409.3 kB\u001b[0m \u001b[31m17.8 MB/s\u001b[0m eta \u001b[36m0:00:00\u001b[0m\n",
      "\u001b[?25hDownloading pydantic_core-2.18.2-cp311-cp311-manylinux_2_17_x86_64.manylinux2014_x86_64.whl (2.1 MB)\n",
      "\u001b[2K   \u001b[90m━━━━━━━━━━━━━━━━━━━━━━━━━━━━━━━━━━━━━━━━\u001b[0m \u001b[32m2.1/2.1 MB\u001b[0m \u001b[31m29.5 MB/s\u001b[0m eta \u001b[36m0:00:00\u001b[0m00:01\u001b[0m00:01\u001b[0m\n",
      "\u001b[?25hDownloading smart_open-6.4.0-py3-none-any.whl (57 kB)\n",
      "\u001b[2K   \u001b[90m━━━━━━━━━━━━━━━━━━━━━━━━━━━━━━━━━━━━━━━━\u001b[0m \u001b[32m57.0/57.0 kB\u001b[0m \u001b[31m21.3 MB/s\u001b[0m eta \u001b[36m0:00:00\u001b[0m\n",
      "\u001b[?25hDownloading spacy_legacy-3.0.12-py2.py3-none-any.whl (29 kB)\n",
      "Downloading spacy_loggers-1.0.5-py3-none-any.whl (22 kB)\n",
      "Downloading srsly-2.4.8-cp311-cp311-manylinux_2_17_x86_64.manylinux2014_x86_64.whl (490 kB)\n",
      "\u001b[2K   \u001b[90m━━━━━━━━━━━━━━━━━━━━━━━━━━━━━━━━━━━━━━━━\u001b[0m \u001b[32m490.9/490.9 kB\u001b[0m \u001b[31m11.6 MB/s\u001b[0m eta \u001b[36m0:00:00\u001b[0m00:01\u001b[0m\n",
      "\u001b[?25hDownloading thinc-8.2.3-cp311-cp311-manylinux_2_17_x86_64.manylinux2014_x86_64.whl (920 kB)\n",
      "\u001b[2K   \u001b[90m━━━━━━━━━━━━━━━━━━━━━━━━━━━━━━━━━━━━━━━━\u001b[0m \u001b[32m920.1/920.1 kB\u001b[0m \u001b[31m34.0 MB/s\u001b[0m eta \u001b[36m0:00:00\u001b[0m\n",
      "\u001b[?25hDownloading typer-0.9.4-py3-none-any.whl (45 kB)\n",
      "\u001b[2K   \u001b[90m━━━━━━━━━━━━━━━━━━━━━━━━━━━━━━━━━━━━━━━━\u001b[0m \u001b[32m46.0/46.0 kB\u001b[0m \u001b[31m13.7 MB/s\u001b[0m eta \u001b[36m0:00:00\u001b[0m\n",
      "\u001b[?25hDownloading wasabi-1.1.2-py3-none-any.whl (27 kB)\n",
      "Downloading weasel-0.3.4-py3-none-any.whl (50 kB)\n",
      "\u001b[2K   \u001b[90m━━━━━━━━━━━━━━━━━━━━━━━━━━━━━━━━━━━━━━━━\u001b[0m \u001b[32m50.1/50.1 kB\u001b[0m \u001b[31m6.3 MB/s\u001b[0m eta \u001b[36m0:00:00\u001b[0m\n",
      "\u001b[?25hDownloading annotated_types-0.6.0-py3-none-any.whl (12 kB)\n",
      "Downloading blis-0.7.11-cp311-cp311-manylinux_2_17_x86_64.manylinux2014_x86_64.whl (10.2 MB)\n",
      "\u001b[2K   \u001b[90m━━━━━━━━━━━━━━━━━━━━━━━━━━━━━━━━━━━━━━━━\u001b[0m \u001b[32m10.2/10.2 MB\u001b[0m \u001b[31m34.3 MB/s\u001b[0m eta \u001b[36m0:00:00\u001b[0m00:01\u001b[0m0:01\u001b[0m\n",
      "\u001b[?25hDownloading cloudpathlib-0.16.0-py3-none-any.whl (45 kB)\n",
      "\u001b[2K   \u001b[90m━━━━━━━━━━━━━━━━━━━━━━━━━━━━━━━━━━━━━━━━\u001b[0m \u001b[32m45.0/45.0 kB\u001b[0m \u001b[31m2.1 MB/s\u001b[0m eta \u001b[36m0:00:00\u001b[0m\n",
      "\u001b[?25hDownloading confection-0.1.4-py3-none-any.whl (35 kB)\n",
      "Downloading language_data-1.2.0-py3-none-any.whl (5.4 MB)\n",
      "\u001b[2K   \u001b[90m━━━━━━━━━━━━━━━━━━━━━━━━━━━━━━━━━━━━━━━━\u001b[0m \u001b[32m5.4/5.4 MB\u001b[0m \u001b[31m14.8 MB/s\u001b[0m eta \u001b[36m0:00:00\u001b[0m00:01\u001b[0m00:01\u001b[0m\n",
      "\u001b[?25hDownloading marisa_trie-1.1.0-cp311-cp311-manylinux_2_17_x86_64.manylinux2014_x86_64.whl (1.4 MB)\n",
      "\u001b[2K   \u001b[90m━━━━━━━━━━━━━━━━━━━━━━━━━━━━━━━━━━━━━━━━\u001b[0m \u001b[32m1.4/1.4 MB\u001b[0m \u001b[31m39.1 MB/s\u001b[0m eta \u001b[36m0:00:00\u001b[0m00:01\u001b[0m\n",
      "\u001b[?25hInstalling collected packages: cymem, wasabi, typer, spacy-loggers, spacy-legacy, smart-open, pydantic-core, murmurhash, marisa-trie, cloudpathlib, catalogue, blis, annotated-types, srsly, pydantic, preshed, language-data, langcodes, confection, weasel, thinc, spacy\n",
      "  Attempting uninstall: smart-open\n",
      "    Found existing installation: smart_open 7.0.4\n",
      "    Uninstalling smart_open-7.0.4:\n",
      "      Successfully uninstalled smart_open-7.0.4\n",
      "Successfully installed annotated-types-0.6.0 blis-0.7.11 catalogue-2.0.10 cloudpathlib-0.16.0 confection-0.1.4 cymem-2.0.8 langcodes-3.4.0 language-data-1.2.0 marisa-trie-1.1.0 murmurhash-1.0.10 preshed-3.0.9 pydantic-2.7.1 pydantic-core-2.18.2 smart-open-6.4.0 spacy-3.7.4 spacy-legacy-3.0.12 spacy-loggers-1.0.5 srsly-2.4.8 thinc-8.2.3 typer-0.9.4 wasabi-1.1.2 weasel-0.3.4\n"
     ]
    }
   ],
   "source": [
    "! pip install spacy"
   ]
  },
  {
   "cell_type": "code",
   "execution_count": 79,
   "id": "692c764a-7029-432f-85cd-c2731e93185a",
   "metadata": {},
   "outputs": [
    {
     "name": "stdout",
     "output_type": "stream",
     "text": [
      "Collecting en-core-web-md==3.7.1\n",
      "  Downloading https://github.com/explosion/spacy-models/releases/download/en_core_web_md-3.7.1/en_core_web_md-3.7.1-py3-none-any.whl (42.8 MB)\n",
      "\u001b[2K     \u001b[90m━━━━━━━━━━━━━━━━━━━━━━━━━━━━━━━━━━━━━━━━\u001b[0m \u001b[32m42.8/42.8 MB\u001b[0m \u001b[31m26.0 MB/s\u001b[0m eta \u001b[36m0:00:00\u001b[0m00:01\u001b[0m00:01\u001b[0m\n",
      "\u001b[?25hRequirement already satisfied: spacy<3.8.0,>=3.7.2 in /opt/mamba/lib/python3.11/site-packages (from en-core-web-md==3.7.1) (3.7.4)\n",
      "Requirement already satisfied: spacy-legacy<3.1.0,>=3.0.11 in /opt/mamba/lib/python3.11/site-packages (from spacy<3.8.0,>=3.7.2->en-core-web-md==3.7.1) (3.0.12)\n",
      "Requirement already satisfied: spacy-loggers<2.0.0,>=1.0.0 in /opt/mamba/lib/python3.11/site-packages (from spacy<3.8.0,>=3.7.2->en-core-web-md==3.7.1) (1.0.5)\n",
      "Requirement already satisfied: murmurhash<1.1.0,>=0.28.0 in /opt/mamba/lib/python3.11/site-packages (from spacy<3.8.0,>=3.7.2->en-core-web-md==3.7.1) (1.0.10)\n",
      "Requirement already satisfied: cymem<2.1.0,>=2.0.2 in /opt/mamba/lib/python3.11/site-packages (from spacy<3.8.0,>=3.7.2->en-core-web-md==3.7.1) (2.0.8)\n",
      "Requirement already satisfied: preshed<3.1.0,>=3.0.2 in /opt/mamba/lib/python3.11/site-packages (from spacy<3.8.0,>=3.7.2->en-core-web-md==3.7.1) (3.0.9)\n",
      "Requirement already satisfied: thinc<8.3.0,>=8.2.2 in /opt/mamba/lib/python3.11/site-packages (from spacy<3.8.0,>=3.7.2->en-core-web-md==3.7.1) (8.2.3)\n",
      "Requirement already satisfied: wasabi<1.2.0,>=0.9.1 in /opt/mamba/lib/python3.11/site-packages (from spacy<3.8.0,>=3.7.2->en-core-web-md==3.7.1) (1.1.2)\n",
      "Requirement already satisfied: srsly<3.0.0,>=2.4.3 in /opt/mamba/lib/python3.11/site-packages (from spacy<3.8.0,>=3.7.2->en-core-web-md==3.7.1) (2.4.8)\n",
      "Requirement already satisfied: catalogue<2.1.0,>=2.0.6 in /opt/mamba/lib/python3.11/site-packages (from spacy<3.8.0,>=3.7.2->en-core-web-md==3.7.1) (2.0.10)\n",
      "Requirement already satisfied: weasel<0.4.0,>=0.1.0 in /opt/mamba/lib/python3.11/site-packages (from spacy<3.8.0,>=3.7.2->en-core-web-md==3.7.1) (0.3.4)\n",
      "Requirement already satisfied: typer<0.10.0,>=0.3.0 in /opt/mamba/lib/python3.11/site-packages (from spacy<3.8.0,>=3.7.2->en-core-web-md==3.7.1) (0.9.4)\n",
      "Requirement already satisfied: smart-open<7.0.0,>=5.2.1 in /opt/mamba/lib/python3.11/site-packages (from spacy<3.8.0,>=3.7.2->en-core-web-md==3.7.1) (6.4.0)\n",
      "Requirement already satisfied: tqdm<5.0.0,>=4.38.0 in /opt/mamba/lib/python3.11/site-packages (from spacy<3.8.0,>=3.7.2->en-core-web-md==3.7.1) (4.66.2)\n",
      "Requirement already satisfied: requests<3.0.0,>=2.13.0 in /opt/mamba/lib/python3.11/site-packages (from spacy<3.8.0,>=3.7.2->en-core-web-md==3.7.1) (2.31.0)\n",
      "Requirement already satisfied: pydantic!=1.8,!=1.8.1,<3.0.0,>=1.7.4 in /opt/mamba/lib/python3.11/site-packages (from spacy<3.8.0,>=3.7.2->en-core-web-md==3.7.1) (2.7.1)\n",
      "Requirement already satisfied: jinja2 in /opt/mamba/lib/python3.11/site-packages (from spacy<3.8.0,>=3.7.2->en-core-web-md==3.7.1) (3.1.3)\n",
      "Requirement already satisfied: setuptools in /opt/mamba/lib/python3.11/site-packages (from spacy<3.8.0,>=3.7.2->en-core-web-md==3.7.1) (69.2.0)\n",
      "Requirement already satisfied: packaging>=20.0 in /opt/mamba/lib/python3.11/site-packages (from spacy<3.8.0,>=3.7.2->en-core-web-md==3.7.1) (23.2)\n",
      "Requirement already satisfied: langcodes<4.0.0,>=3.2.0 in /opt/mamba/lib/python3.11/site-packages (from spacy<3.8.0,>=3.7.2->en-core-web-md==3.7.1) (3.4.0)\n",
      "Requirement already satisfied: numpy>=1.19.0 in /opt/mamba/lib/python3.11/site-packages (from spacy<3.8.0,>=3.7.2->en-core-web-md==3.7.1) (1.26.4)\n",
      "Requirement already satisfied: language-data>=1.2 in /opt/mamba/lib/python3.11/site-packages (from langcodes<4.0.0,>=3.2.0->spacy<3.8.0,>=3.7.2->en-core-web-md==3.7.1) (1.2.0)\n",
      "Requirement already satisfied: annotated-types>=0.4.0 in /opt/mamba/lib/python3.11/site-packages (from pydantic!=1.8,!=1.8.1,<3.0.0,>=1.7.4->spacy<3.8.0,>=3.7.2->en-core-web-md==3.7.1) (0.6.0)\n",
      "Requirement already satisfied: pydantic-core==2.18.2 in /opt/mamba/lib/python3.11/site-packages (from pydantic!=1.8,!=1.8.1,<3.0.0,>=1.7.4->spacy<3.8.0,>=3.7.2->en-core-web-md==3.7.1) (2.18.2)\n",
      "Requirement already satisfied: typing-extensions>=4.6.1 in /opt/mamba/lib/python3.11/site-packages (from pydantic!=1.8,!=1.8.1,<3.0.0,>=1.7.4->spacy<3.8.0,>=3.7.2->en-core-web-md==3.7.1) (4.11.0)\n",
      "Requirement already satisfied: charset-normalizer<4,>=2 in /opt/mamba/lib/python3.11/site-packages (from requests<3.0.0,>=2.13.0->spacy<3.8.0,>=3.7.2->en-core-web-md==3.7.1) (3.3.2)\n",
      "Requirement already satisfied: idna<4,>=2.5 in /opt/mamba/lib/python3.11/site-packages (from requests<3.0.0,>=2.13.0->spacy<3.8.0,>=3.7.2->en-core-web-md==3.7.1) (3.6)\n",
      "Requirement already satisfied: urllib3<3,>=1.21.1 in /opt/mamba/lib/python3.11/site-packages (from requests<3.0.0,>=2.13.0->spacy<3.8.0,>=3.7.2->en-core-web-md==3.7.1) (1.26.18)\n",
      "Requirement already satisfied: certifi>=2017.4.17 in /opt/mamba/lib/python3.11/site-packages (from requests<3.0.0,>=2.13.0->spacy<3.8.0,>=3.7.2->en-core-web-md==3.7.1) (2024.2.2)\n",
      "Requirement already satisfied: blis<0.8.0,>=0.7.8 in /opt/mamba/lib/python3.11/site-packages (from thinc<8.3.0,>=8.2.2->spacy<3.8.0,>=3.7.2->en-core-web-md==3.7.1) (0.7.11)\n",
      "Requirement already satisfied: confection<1.0.0,>=0.0.1 in /opt/mamba/lib/python3.11/site-packages (from thinc<8.3.0,>=8.2.2->spacy<3.8.0,>=3.7.2->en-core-web-md==3.7.1) (0.1.4)\n",
      "Requirement already satisfied: click<9.0.0,>=7.1.1 in /opt/mamba/lib/python3.11/site-packages (from typer<0.10.0,>=0.3.0->spacy<3.8.0,>=3.7.2->en-core-web-md==3.7.1) (8.1.7)\n",
      "Requirement already satisfied: cloudpathlib<0.17.0,>=0.7.0 in /opt/mamba/lib/python3.11/site-packages (from weasel<0.4.0,>=0.1.0->spacy<3.8.0,>=3.7.2->en-core-web-md==3.7.1) (0.16.0)\n",
      "Requirement already satisfied: MarkupSafe>=2.0 in /opt/mamba/lib/python3.11/site-packages (from jinja2->spacy<3.8.0,>=3.7.2->en-core-web-md==3.7.1) (2.1.5)\n",
      "Requirement already satisfied: marisa-trie>=0.7.7 in /opt/mamba/lib/python3.11/site-packages (from language-data>=1.2->langcodes<4.0.0,>=3.2.0->spacy<3.8.0,>=3.7.2->en-core-web-md==3.7.1) (1.1.0)\n",
      "Installing collected packages: en-core-web-md\n",
      "Successfully installed en-core-web-md-3.7.1\n",
      "\u001b[38;5;2m✔ Download and installation successful\u001b[0m\n",
      "You can now load the package via spacy.load('en_core_web_md')\n"
     ]
    }
   ],
   "source": [
    "!python -m spacy download en_core_web_md"
   ]
  },
  {
   "cell_type": "code",
   "execution_count": 81,
   "id": "2694e362-7031-481b-98e7-8b814467279a",
   "metadata": {},
   "outputs": [
    {
     "name": "stdout",
     "output_type": "stream",
     "text": [
      "Test set accuracy: 56.76%\n",
      "Classification report on test set:\n",
      "              precision    recall  f1-score   support\n",
      "\n",
      "           0       0.55      0.95      0.69       714\n",
      "           1       0.74      0.17      0.28       660\n",
      "           2       1.00      0.06      0.12        16\n",
      "\n",
      "    accuracy                           0.57      1390\n",
      "   macro avg       0.76      0.39      0.36      1390\n",
      "weighted avg       0.64      0.57      0.49      1390\n",
      "\n"
     ]
    }
   ],
   "source": [
    "import spacy\n",
    "import numpy as np\n",
    "import pandas as pd\n",
    "from sklearn.ensemble import RandomForestClassifier\n",
    "from sklearn.pipeline import Pipeline\n",
    "from sklearn.base import TransformerMixin, BaseEstimator\n",
    "from sklearn.metrics import accuracy_score, classification_report\n",
    "from sklearn.model_selection import train_test_split\n",
    "\n",
    "# Chargement du modèle spaCy\n",
    "nlp = spacy.load('en_core_web_md')\n",
    "\n",
    "# convertir les prénoms en vecteurs de plongements de mots\n",
    "class SpacyVectorizer(BaseEstimator, TransformerMixin):\n",
    "    def fit(self, X, y=None):\n",
    "        return self\n",
    "    \n",
    "    def transform(self, X, y=None):\n",
    "        return np.array([nlp(name).vector for name in X])\n",
    "\n",
    "# Mappage étiquettes\n",
    "df_freq['target'] = df_freq['proba_sexe'].map({'femme': 0, 'homme': 1, 'ambigu': 2})\n",
    "\n",
    "# Séparation ensembles d'entraînement et de test\n",
    "X_train, X_test, y_train, y_test = train_test_split(df_freq['firstname'], df_freq['target'], test_size=0.2, random_state=42)\n",
    "\n",
    "\n",
    "pipeline = Pipeline([\n",
    "    ('vectorizer', SpacyVectorizer()),\n",
    "    ('classifier', RandomForestClassifier(n_estimators=100, random_state=42))\n",
    "])\n",
    "\n",
    "# Entraînement du modèle\n",
    "pipeline.fit(X_train, y_train)\n",
    "\n",
    "# Prédiction et évaluation \n",
    "predicted = pipeline.predict(X_test)\n",
    "accuracy = accuracy_score(y_test, predicted)\n",
    "print(f\"Test set accuracy: {accuracy * 100:.2f}%\")\n",
    "print(\"Classification report on test set:\")\n",
    "print(classification_report(y_test, predicted))"
   ]
  },
  {
   "cell_type": "code",
   "execution_count": null,
   "id": "dcb4e902-4167-469c-b898-f43c328bba84",
   "metadata": {},
   "outputs": [],
   "source": []
  }
 ],
 "metadata": {
  "kernelspec": {
   "display_name": "Python 3 (ipykernel)",
   "language": "python",
   "name": "python3"
  },
  "language_info": {
   "codemirror_mode": {
    "name": "ipython",
    "version": 3
   },
   "file_extension": ".py",
   "mimetype": "text/x-python",
   "name": "python",
   "nbconvert_exporter": "python",
   "pygments_lexer": "ipython3",
   "version": "3.11.6"
  }
 },
 "nbformat": 4,
 "nbformat_minor": 5
}
